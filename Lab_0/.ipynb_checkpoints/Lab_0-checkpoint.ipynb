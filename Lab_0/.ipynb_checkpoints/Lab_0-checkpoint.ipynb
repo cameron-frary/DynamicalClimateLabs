{
 "cells": [
  {
   "cell_type": "markdown",
   "id": "ec865c00-b22d-4975-9c52-193eb71d506c",
   "metadata": {},
   "source": [
    "# Welcome to EACS/PHYS 220! "
   ]
  },
  {
   "cell_type": "markdown",
   "id": "3f45e544-cc13-4031-8c62-47b72a65c04b",
   "metadata": {},
   "source": [
    "### Lab 0"
   ]
  },
  {
   "cell_type": "markdown",
   "id": "bde1f61b-4452-4ced-a0e3-7431095fa9ae",
   "metadata": {},
   "source": [
    "*Due Tuesday, January 16th, at 5:00 pm (upload .ipynb file to Lyceum)*"
   ]
  },
  {
   "cell_type": "markdown",
   "id": "5171bfc3-c5ae-4d51-aef7-ae2a31e64cbb",
   "metadata": {},
   "source": [
    "In this course, we will use the programming language 'Python' to analyze data and to create simple models of components of Earth's climate system. Today, we'll start to get comfortable using Python and Jupyter Notebooks."
   ]
  },
  {
   "cell_type": "markdown",
   "id": "94f9802c-b1a4-40a4-8881-de7c2fe7510b",
   "metadata": {},
   "source": [
    "In Jupyter Notebooks, you can use the 'Markdown' option in the dropdown menu above to write text, and the 'Code' option to write code. Check out the [Markdown Guide](https://www.markdownguide.org/basic-syntax/) for information on how to format text using Markdown."
   ]
  },
  {
   "cell_type": "markdown",
   "id": "085c859f-0ec1-435f-8c15-14569c4575a9",
   "metadata": {},
   "source": [
    "*Below this cell, add a new Markdown cell that has some text bolded, a link to a webpage, and a list.*"
   ]
  },
  {
   "cell_type": "markdown",
   "id": "a6436fdf",
   "metadata": {},
   "source": [
    "**Bolded text**, [link to Google](https://www.google.com), and this itemized list \n",
    "\n",
    "- first item\n",
    "- second item\n",
    "\n",
    "And an enumerated list:\n",
    "\n",
    "1. First item\n",
    "2. Second item"
   ]
  },
  {
   "cell_type": "code",
   "execution_count": 1,
   "id": "36a47307-f397-4246-adc2-4449034fb0c3",
   "metadata": {
    "tags": []
   },
   "outputs": [],
   "source": [
    "# We can write text in 'Code' cells as well if we put a '#' symbol at the start of the line"
   ]
  },
  {
   "cell_type": "markdown",
   "id": "840ac126-8fa2-4a01-ae13-d31c57c29ece",
   "metadata": {},
   "source": [
    "#### Python Basics"
   ]
  },
  {
   "cell_type": "markdown",
   "id": "d3b6789c-b27e-43ca-9349-255abc864b24",
   "metadata": {
    "tags": []
   },
   "source": [
    "There are many data types -- ways of formatting information -- in Python. We'll start with three: `str` (string), `int` (integer), and `float` (floating point number). Python will automatically guess which data type to use; you can also set a data type explicitly.\n",
    "\n",
    "`str` is for text. You can tell Python that something should be a string by putting it in quotes.  \n",
    "`int` is for integers (1, 2, 3, 4).   \n",
    "`float` is Python's way of representing real numbers (1.25, 3.14, 1)"
   ]
  },
  {
   "cell_type": "markdown",
   "id": "1009d41a-a81b-4800-8a4e-bd238bc14ed2",
   "metadata": {},
   "source": [
    "*Below this cell, use the `print()` command to output 'Hello world!'*"
   ]
  },
  {
   "cell_type": "code",
   "execution_count": 2,
   "id": "b749ff53-365f-4741-8d80-ed6e6f9951e4",
   "metadata": {
    "scrolled": true,
    "tags": []
   },
   "outputs": [
    {
     "name": "stdout",
     "output_type": "stream",
     "text": [
      "Hello world!\n"
     ]
    }
   ],
   "source": [
    "# your code here\n",
    "print(\"Hello world!\")"
   ]
  },
  {
   "cell_type": "markdown",
   "id": "7943ae37-2615-4950-84fa-103bcebcea1f",
   "metadata": {
    "tags": []
   },
   "source": [
    "We can't do math between strings and ints..."
   ]
  },
  {
   "cell_type": "code",
   "execution_count": 3,
   "id": "0e6c3511-4ba6-4380-9723-c3e9b244401a",
   "metadata": {
    "tags": []
   },
   "outputs": [],
   "source": [
    "# 'Hello world' + 1  # commented out so I could re-run the whole notebook"
   ]
  },
  {
   "cell_type": "markdown",
   "id": "636bfa08-9be0-4bb6-9e48-01b9e02408e1",
   "metadata": {},
   "source": [
    "But we can do math with ints and floats:"
   ]
  },
  {
   "cell_type": "code",
   "execution_count": 4,
   "id": "3ca97c2a-7159-42b4-a3dc-03e1ced56ddc",
   "metadata": {
    "tags": []
   },
   "outputs": [
    {
     "data": {
      "text/plain": [
       "3"
      ]
     },
     "execution_count": 4,
     "metadata": {},
     "output_type": "execute_result"
    }
   ],
   "source": [
    "1 + 2"
   ]
  },
  {
   "cell_type": "code",
   "execution_count": 5,
   "id": "ee51e980-bd4d-455d-98f1-09f61ba66c0d",
   "metadata": {
    "tags": []
   },
   "outputs": [
    {
     "data": {
      "text/plain": [
       "3.3000000000000003"
      ]
     },
     "execution_count": 5,
     "metadata": {},
     "output_type": "execute_result"
    }
   ],
   "source": [
    "1.1 + 2.2"
   ]
  },
  {
   "cell_type": "markdown",
   "id": "f71261e1-d80b-46dd-9aa5-81f815bf2983",
   "metadata": {},
   "source": [
    "What do you think will happen if we write the code `'1' + '2'`?"
   ]
  },
  {
   "cell_type": "code",
   "execution_count": 6,
   "id": "56d0293d-7348-4638-adda-80b54d66ed3b",
   "metadata": {
    "tags": []
   },
   "outputs": [
    {
     "data": {
      "text/plain": [
       "'12'"
      ]
     },
     "execution_count": 6,
     "metadata": {},
     "output_type": "execute_result"
    }
   ],
   "source": [
    "'1' + '2'"
   ]
  },
  {
   "cell_type": "markdown",
   "id": "3c6d9764-be34-4bb8-aa4b-0e4fa2f47953",
   "metadata": {},
   "source": [
    "We can assign variables to represent strings, ints, and floats (or any other data type):"
   ]
  },
  {
   "cell_type": "code",
   "execution_count": 7,
   "id": "adcf74ef-ba04-4612-86f3-13dd6c8b1d5e",
   "metadata": {
    "tags": []
   },
   "outputs": [],
   "source": [
    "a = 1\n",
    "b = 2\n",
    "c = 'Hello world'"
   ]
  },
  {
   "cell_type": "code",
   "execution_count": 8,
   "id": "a8454820-cce1-4bfc-898f-acad1354a681",
   "metadata": {
    "tags": []
   },
   "outputs": [
    {
     "data": {
      "text/plain": [
       "3"
      ]
     },
     "execution_count": 8,
     "metadata": {},
     "output_type": "execute_result"
    }
   ],
   "source": [
    "a + b"
   ]
  },
  {
   "cell_type": "code",
   "execution_count": 9,
   "id": "3f603c14-148f-4d51-b5b5-6a599232a25f",
   "metadata": {
    "tags": []
   },
   "outputs": [],
   "source": [
    "# a + c  # commented out so I could re-run the whole notebook"
   ]
  },
  {
   "cell_type": "code",
   "execution_count": 10,
   "id": "8e8d9314-c7c9-44db-a7be-ba3135fb221d",
   "metadata": {
    "tags": []
   },
   "outputs": [
    {
     "name": "stdout",
     "output_type": "stream",
     "text": [
      "3\n"
     ]
    }
   ],
   "source": [
    "d = a + b\n",
    "print(d)"
   ]
  },
  {
   "cell_type": "markdown",
   "id": "b88aa64e-8136-41c6-b8e2-6cf560702199",
   "metadata": {},
   "source": [
    "We should **always** use an informative name for our variables - this will make our code readable to ourselves and others. When relevant, we should use units in our outputs [(use metric for this course)](https://www.youtube.com/watch?v=JYqfVE-fykk&t=1s). We can use 'f-strings' to make this easy:"
   ]
  },
  {
   "cell_type": "code",
   "execution_count": 11,
   "id": "477857b4-e6b5-43b5-8a71-5d990157b979",
   "metadata": {
    "tags": []
   },
   "outputs": [
    {
     "name": "stdout",
     "output_type": "stream",
     "text": [
      "The airspeed velocity of an unladen swallow is 5 m/s\n"
     ]
    }
   ],
   "source": [
    "veloc = 5 # in m/s\n",
    "print(f'The airspeed velocity of an unladen swallow is {veloc} m/s') # put variables in curly braces"
   ]
  },
  {
   "cell_type": "markdown",
   "id": "e9e0a6c1-efc1-4fd3-9b20-4d3fdb8f5601",
   "metadata": {},
   "source": [
    "#### Lists"
   ]
  },
  {
   "cell_type": "markdown",
   "id": "023b3462-f8a7-494f-8df4-c73ccc9f0b43",
   "metadata": {},
   "source": [
    "A `list` object is one way to store data in Python. It contains data of any type (or mixed types) with each element separated by a comma"
   ]
  },
  {
   "cell_type": "code",
   "execution_count": 12,
   "id": "d8063631-8c85-4555-868a-f745602af190",
   "metadata": {
    "tags": []
   },
   "outputs": [
    {
     "name": "stdout",
     "output_type": "stream",
     "text": [
      "[2014, 2015, 2016, 2017, 2018, 2019, 2020, 2021, 2022, 2023]\n"
     ]
    }
   ],
   "source": [
    "years = [2014, 2015, 2016, 2017, 2018, 2019, 2020, 2021, 2022, 2023] # A list of the last 10 years\n",
    "print(years)"
   ]
  },
  {
   "cell_type": "markdown",
   "id": "6a814e5d-da03-4432-b16e-479d54e913e3",
   "metadata": {},
   "source": [
    "We can access different elements of our list using indexing. We do this by using a numerical index in square brackets. Python starts counting with 0, so to access the first element of the `years` list, we would write:"
   ]
  },
  {
   "cell_type": "code",
   "execution_count": 13,
   "id": "2e3099a1-ce9a-45d2-9138-fed535321573",
   "metadata": {
    "tags": []
   },
   "outputs": [
    {
     "name": "stdout",
     "output_type": "stream",
     "text": [
      "2014\n"
     ]
    }
   ],
   "source": [
    "print(years[0])"
   ]
  },
  {
   "cell_type": "markdown",
   "id": "6d68f635-14b8-4d59-a60f-65da3338c1ae",
   "metadata": {},
   "source": [
    "We can also create an empty list, and then append items to it manually using the `.append()` command."
   ]
  },
  {
   "cell_type": "code",
   "execution_count": 14,
   "id": "8fd87ecb-3c15-4c55-966f-78fbcd246fcf",
   "metadata": {
    "tags": []
   },
   "outputs": [
    {
     "name": "stdout",
     "output_type": "stream",
     "text": [
      "['b']\n"
     ]
    }
   ],
   "source": [
    "a = []\n",
    "a.append('b')\n",
    "print(a)"
   ]
  },
  {
   "cell_type": "markdown",
   "id": "63ea8893-413a-4106-aff6-cc71165622cc",
   "metadata": {},
   "source": [
    "We can also `import` a package to help us do math on our lists. NumPy is a very useful package that we will use commonly in this course."
   ]
  },
  {
   "cell_type": "code",
   "execution_count": 15,
   "id": "d0506b27-ca04-44f2-9c07-a6bbb2751ae2",
   "metadata": {
    "tags": []
   },
   "outputs": [
    {
     "name": "stdout",
     "output_type": "stream",
     "text": [
      "2018.5\n"
     ]
    }
   ],
   "source": [
    "import numpy\n",
    "\n",
    "avg_year = numpy.mean(years) # tell NumPy to use the 'mean' function\n",
    "print(avg_year)\n"
   ]
  },
  {
   "cell_type": "markdown",
   "id": "60e96f14-8bdb-4c79-a6e1-d473c435fb84",
   "metadata": {},
   "source": [
    "#### Loops"
   ]
  },
  {
   "cell_type": "markdown",
   "id": "cbb0de37-82ba-43e9-a063-de6d8e8dbe68",
   "metadata": {},
   "source": [
    "We can use 'loops' to iterate through a sequence (in this case, a `list`) using the following syntax:"
   ]
  },
  {
   "cell_type": "code",
   "execution_count": 16,
   "id": "f8a2f926-00d6-4e05-825f-b94c29b19a77",
   "metadata": {
    "tags": []
   },
   "outputs": [
    {
     "name": "stdout",
     "output_type": "stream",
     "text": [
      "2014\n",
      "2015\n",
      "2016\n",
      "2017\n",
      "2018\n",
      "2019\n",
      "2020\n",
      "2021\n",
      "2022\n",
      "2023\n"
     ]
    }
   ],
   "source": [
    "for year in years: # it's common to use 'i' to save variables in for loops, but you can use whatever you want\n",
    "    print(year) # this bit needs to indented by one tab to work"
   ]
  },
  {
   "cell_type": "markdown",
   "id": "e8c66e3b-c6c7-4bea-8e22-df47980db4a9",
   "metadata": {},
   "source": [
    "#### Conditionals"
   ]
  },
  {
   "cell_type": "markdown",
   "id": "bb577145-8233-4e43-b2c0-00f1dbd6e360",
   "metadata": {},
   "source": [
    "We can use the conditional statements (`if`, `else`, and `elif`) to do something if a given statement is true or false."
   ]
  },
  {
   "cell_type": "code",
   "execution_count": 17,
   "id": "cb1f649c-daca-4d2c-bdc9-0c64c7719000",
   "metadata": {
    "tags": []
   },
   "outputs": [
    {
     "name": "stdout",
     "output_type": "stream",
     "text": [
      "2014\n",
      "2015\n",
      "2016 is an ENSO year\n",
      "2017\n",
      "2018\n",
      "2019\n",
      "2020\n",
      "2021\n",
      "2022\n",
      "2023 is an ENSO year\n"
     ]
    }
   ],
   "source": [
    "enso_years = [2016, 2023]\n",
    "for year in years:\n",
    "    if year in enso_years:\n",
    "        print(f'{year} is an ENSO year') # the lines under if statements need to be indented as well\n",
    "    else:\n",
    "        print(year)"
   ]
  },
  {
   "cell_type": "markdown",
   "id": "0a3fac4f-6778-4d5e-95eb-9193c15ca9cc",
   "metadata": {},
   "source": [
    "Instead of iterating over the elements in a list, sometimes it's useful to iterate over the *indices* of a list:"
   ]
  },
  {
   "cell_type": "code",
   "execution_count": 18,
   "id": "e409fed4-0f12-489f-8fea-b7e6dd3b8f3b",
   "metadata": {
    "tags": []
   },
   "outputs": [
    {
     "name": "stdout",
     "output_type": "stream",
     "text": [
      "0 2014\n",
      "1 2015\n",
      "2 2016\n",
      "3 2017\n",
      "4 2018\n",
      "5 2019\n",
      "6 2020\n",
      "7 2021\n",
      "8 2022\n",
      "9 2023\n"
     ]
    }
   ],
   "source": [
    "for i in range(len(years)): # iterate over a list from 0 to the length of the 'year' list; we often use 'i' to represent index location\n",
    "    print(f'{i} {years[i]}')"
   ]
  },
  {
   "cell_type": "markdown",
   "id": "144a1228-30ba-40b2-af5f-818bb71efd2c",
   "metadata": {},
   "source": [
    "#### Practice Problem\n",
    "\n"
   ]
  },
  {
   "cell_type": "markdown",
   "id": "0ee10e3c-a933-49d3-8280-fc3180bb8f9d",
   "metadata": {},
   "source": [
    "Below is a list with the yearly global temperature anomaly (degrees C above a baseline interval).\n",
    "\n",
    "In pairs, use what you have learned today to answer the following questions:\n",
    "\n",
    "1. Are ENSO years hotter than other years? \n",
    "2. By how much?\n",
    "3. Are there any issues with this analysis?\n",
    "\n",
    "Show the code you used to get these answers. It should be well-commented and use units where possible. Each person should turn in their own assignment.\n"
   ]
  },
  {
   "cell_type": "code",
   "execution_count": 19,
   "id": "6a7be864-6d89-4f6b-9fec-8b33e0bac544",
   "metadata": {
    "tags": []
   },
   "outputs": [],
   "source": [
    "T_anom = [0.74, 0.9, 1.01, 0.92, 0.85, 0.97, 1.02, 0.85, 0.89, 1.48] # degrees C above average from 1951-1980 for years 2014-2023"
   ]
  },
  {
   "cell_type": "code",
   "execution_count": 23,
   "id": "947777ee-43c4-4e9a-90ac-af2c583b7ca0",
   "metadata": {
    "tags": []
   },
   "outputs": [
    {
     "name": "stdout",
     "output_type": "stream",
     "text": [
      "Mean of temp anomaly for ENSO years: 1.25 C; non-ENSO years: 0.89 C\n",
      "Median of temp anomaly for ENSO years: 1.25 C; non-ENSO years: 0.9 C\n",
      "Difference in mean of temp anomaly (C) of ENSO vs non-ENSO years: 0.36 C\n",
      "Difference in median of temp anomaly (C) of ENSO vs non-ENSO years: 0.35 C\n"
     ]
    }
   ],
   "source": [
    "# Initialize empty lists for temperature anomalies for ENSO and non-ENSO years\n",
    "enso_T_anom = []\n",
    "neutral_T_anom = []\n",
    "\n",
    "# Loop through list of indexes for year and temp anomaly lists\n",
    "for i in range(len(years)):\n",
    "    year = years[i]  # Get year\n",
    "    if year in enso_years: # If year is ENSO year, append temp anomaly (C) to ENSO anomaly list, else neutral anomaly list\n",
    "        enso_T_anom.append(T_anom[i])\n",
    "    else:\n",
    "        neutral_T_anom.append(T_anom[i])\n",
    "\n",
    "mean_enso = round(numpy.mean(enso_T_anom),2)  # Get mean ENSO temp anomaly (C)\n",
    "mean_neutral = round(numpy.mean(neutral_T_anom),2)  # Get mean non-ENSO temp anomaly (C)\n",
    "median_enso = round(numpy.median(enso_T_anom),2)  # Get median ENSO temp anomaly (C)\n",
    "median_neutral = round(numpy.median(neutral_T_anom),2)  # Get median non-ENSO temp anomaly (C)\n",
    "\n",
    "print(F\"Mean of temp anomaly for ENSO years: {mean_enso} C; non-ENSO years: {mean_neutral} C\")\n",
    "print(F\"Median of temp anomaly for ENSO years: {median_enso} C; non-ENSO years: {median_neutral} C\")\n",
    "print(f\"Difference in mean of temp anomaly of ENSO vs non-ENSO years: {round(mean_enso - mean_neutral,2)} C\")\n",
    "print(f\"Difference in median of temp anomaly of ENSO vs non-ENSO years: {round(median_enso - median_neutral,2)} C\")"
   ]
  },
  {
   "cell_type": "markdown",
   "id": "dde7f42a",
   "metadata": {},
   "source": [
    "1. ENSO years do appear generally hotter than neutral years\n",
    "2. The mean temperature anomaly of ENSO years is 1.245&deg;C compared to ~0.893&deg;C for neutral years&mdash;a difference of ~0.352&deg;C. Similarly, the median temperature anomaly of ENSO years is 1.245&deg;C compared to 0.895&deg;C for neutral years&mdash;a difference of ~0.350&deg;C.\n",
    "3. One concern is that our sample size is small and contains only two ENSO years. The 2023 anomaly (1.48&deg;C) has a huge bearing on the mean and median of ENSO year anomalies, but it might be an outlier. Our sample is too small to tell."
   ]
  }
 ],
 "metadata": {
  "kernelspec": {
   "display_name": "Python 3 (ipykernel)",
   "language": "python",
   "name": "python3"
  },
  "language_info": {
   "codemirror_mode": {
    "name": "ipython",
    "version": 3
   },
   "file_extension": ".py",
   "mimetype": "text/x-python",
   "name": "python",
   "nbconvert_exporter": "python",
   "pygments_lexer": "ipython3",
   "version": "3.11.5"
  }
 },
 "nbformat": 4,
 "nbformat_minor": 5
}
