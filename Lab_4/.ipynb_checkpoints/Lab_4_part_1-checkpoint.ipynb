{
 "cells": [
  {
   "cell_type": "markdown",
   "id": "34f1fb0b-52f3-47b4-b239-5f6321cc94a3",
   "metadata": {},
   "source": [
    "### Lab 4 -- To what extent did CO2 concentrations control Phanerozoic climate?"
   ]
  },
  {
   "cell_type": "code",
   "execution_count": 1,
   "id": "e0dc59ce-09fe-4c64-905c-55991d515ff2",
   "metadata": {
    "tags": []
   },
   "outputs": [
    {
     "data": {
      "text/plain": [
       "1438.5"
      ]
     },
     "execution_count": 1,
     "metadata": {},
     "output_type": "execute_result"
    }
   ],
   "source": [
    "1370*1.05"
   ]
  },
  {
   "cell_type": "markdown",
   "id": "4842abf1-98f8-476d-be81-16abc73ed7d1",
   "metadata": {},
   "source": [
    "Names: Carson and Cam"
   ]
  },
  {
   "cell_type": "markdown",
   "id": "af879af9-41bd-4321-b583-cc44001af6e6",
   "metadata": {},
   "source": [
    "#### Warmup problem:\n",
    "\n",
    "When squirrels get together for a party, they like to have cigars. A squirrel party is successful when the number of cigars is between 40 and 60, inclusive. Unless it is the weekend, in which case there is no upper bound on the number of cigars. Return True if the party with the given values is successful, or False otherwise."
   ]
  },
  {
   "cell_type": "code",
   "execution_count": 2,
   "id": "3ab81c21-9e9d-4318-aa4c-10bd6bfea1a4",
   "metadata": {
    "tags": []
   },
   "outputs": [],
   "source": [
    "def cigar_party(cigars, is_weekend):\n",
    "    return (40 <= cigars <= 60) or (is_weekend and cigars >= 40)"
   ]
  },
  {
   "cell_type": "code",
   "execution_count": 3,
   "id": "eaa9ec66-5f9f-43cb-895b-fb037faaf9ce",
   "metadata": {
    "tags": []
   },
   "outputs": [
    {
     "name": "stdout",
     "output_type": "stream",
     "text": [
      "False\n",
      "True\n",
      "True\n"
     ]
    }
   ],
   "source": [
    "print(cigar_party(30, False)) # should return False\n",
    "print(cigar_party(50, False)) # should return True\n",
    "print(cigar_party(70, True)) # should return True"
   ]
  },
  {
   "cell_type": "markdown",
   "id": "1d0ff31d-572f-42ce-ac7b-df6039dda47b",
   "metadata": {
    "tags": []
   },
   "source": [
    "#### Notes from last lab\n",
    "\n",
    "- 'Restart Kernel and Run All' before submitting lab -- make sure it all works!\n",
    "- Use your model to answer questions!!"
   ]
  },
  {
   "cell_type": "markdown",
   "id": "d64d44c4-f814-482f-9d4f-311ad64b50f4",
   "metadata": {},
   "source": [
    "#### Clean up functions from previous labs"
   ]
  },
  {
   "cell_type": "markdown",
   "id": "6c35abad-00e5-41f4-b026-1dd640e17ecc",
   "metadata": {},
   "source": [
    "Let's take some time to make sure the functions we've made in previous labs are working correctly, are well documented, and have thoughtful variable names. We can also add some documentation to our function to make it clear what the function does and how to use it. We can use something called 'docstrings' to do this: see the example below for the `calc_S` function."
   ]
  },
  {
   "cell_type": "code",
   "execution_count": 4,
   "id": "56910817-fa42-4b76-99e5-9279595e7d7b",
   "metadata": {
    "tags": []
   },
   "outputs": [
    {
     "name": "stdout",
     "output_type": "stream",
     "text": [
      "1370.0\n"
     ]
    }
   ],
   "source": [
    "def calc_S(age):\n",
    "    \n",
    "    ''' Calculates the solar flux (S) at Earth at any point in Earth's history.\n",
    "            \n",
    "            INPUT: age, in years. Input of 1e6 will find S for 1 million years ago. Must be < 4.57e9.\n",
    "            OUTPUT: Solar flux reaching Earth in W/m^2. '''\n",
    "            \n",
    "    return ((1/(1+(2/5)*(1-((4.57e9-age)/4.57e9))))) * 1370\n",
    "\n",
    "print(calc_S(0)) # should be 1370 W/m2"
   ]
  },
  {
   "cell_type": "markdown",
   "id": "4c3ea3d6-c811-480e-be98-928ae8b442ac",
   "metadata": {
    "tags": []
   },
   "source": [
    "Add documentation and a test for the `calc_A` and `calc_T_equil` functions. "
   ]
  },
  {
   "cell_type": "code",
   "execution_count": 5,
   "id": "ddd53366-2d69-4e9f-8656-913bbf51fe86",
   "metadata": {
    "tags": []
   },
   "outputs": [
    {
     "name": "stdout",
     "output_type": "stream",
     "text": [
      "0.7\n",
      "0.43996418732782366\n",
      "0.289\n",
      "14.685459434400627\n",
      "\n",
      "    Calculates equilibrium temperature given solar flux, radiative forcing, albedo, and greenhouse effect.\n",
      "    \n",
      "        INPUT: Solar flux (W/m^2), Radiative forcing (W/m^2), albedo (in interval [0,1]), and greenhouse effect (deg C, >= 0)\n",
      "        OUTPUT: Equilibrium temperature in Celsius taking into account unreflected solar shortwave radiation\n",
      "            and longwave radiation from radiative forcing.\n",
      "    \n",
      "    \n"
     ]
    }
   ],
   "source": [
    "import numpy as np\n",
    "\n",
    "A_i= 0.7  # Full ice coverage\n",
    "A_0= 0.289  # Lowest realistic albedo (No ice)\n",
    "\n",
    "T_i= 260  # Transition to Snowball Earth\n",
    "T_0= 293  # Transition to ice-free Earth\n",
    "\n",
    "sig = 5.67e-8  # W/m^2/K^4 Stefan-Boltzmann constant \n",
    "\n",
    "def calc_A(T):\n",
    "    \n",
    "    '''\n",
    "    Calculates albedo at a given temperature using the piecewise expression given in lab. Note that the endpoint\n",
    "    temperatures and albedos are defined outside the function.\n",
    "    \n",
    "        INPUT: temperature T in Kelvin\n",
    "        OUTPUT: Albedo in interval [0,1]\n",
    "    '''\n",
    "    \n",
    "    if T<=T_i:\n",
    "        return A_i\n",
    "    elif T>=T_0:\n",
    "        return A_0\n",
    "    else:\n",
    "        return A_0 + (A_i - A_0) * ((T-T_0)**2/(T_i-T_0)**2)\n",
    "\n",
    "print(calc_A(255))  # Should be 0.7\n",
    "print(calc_A(273))  # Should be [equal to some as-yet-unknown intermediate value]\n",
    "print(calc_A(300))  # Should be 0.289\n",
    "\n",
    "\n",
    "def calc_T_equil(S, R, A, Gh_eff):\n",
    "    \n",
    "    '''\n",
    "    Calculates equilibrium temperature given solar flux, radiative forcing, albedo, and greenhouse effect.\n",
    "    \n",
    "        INPUT: Solar flux (W/m^2), Radiative forcing (W/m^2), albedo (in interval [0,1]), and greenhouse effect (deg C, >= 0)\n",
    "        OUTPUT: Equilibrium temperature in Celsius taking into account unreflected solar shortwave radiation\n",
    "            and longwave radiation from radiative forcing.\n",
    "    \n",
    "    '''\n",
    "    \n",
    "    shortwave_comp = (S/4)*(1-A)  # W/m^2; shortwave flux not reflected\n",
    "    longwave_comp = R  # W/m^2; radiative forcing, flux from longwave trapped by increased eps\n",
    "    return np.power((shortwave_comp + longwave_comp)/sig, (1/4)) + Gh_eff - 273  # C; Stefan-Boltzmann\n",
    "    \n",
    "    \n",
    "print(calc_T_equil(1370, 2.58, 0.3, 32))  # Should be [equal to some as-yet-unknown known value]\n",
    "\n",
    "print(calc_T_equil.__doc__)"
   ]
  },
  {
   "cell_type": "markdown",
   "id": "f02b671c-c2e0-451c-b819-dd50a47b3ba6",
   "metadata": {},
   "source": [
    "### Plotting data from files using `pandas`"
   ]
  },
  {
   "cell_type": "markdown",
   "id": "1744ef0c-7e34-40b7-bce3-ad0c83008621",
   "metadata": {},
   "source": [
    "Today we will be using two new packages. `pandas` is used to read in data from files such as .xlsx, .csv, and .txt. It is typically imported `as pd`. \n",
    "\n",
    "We will also be using a package called `seaborn` which we will import `as sns`. Today, we'll just use `seaborn` for it's colorblind-friendly color palette. "
   ]
  },
  {
   "cell_type": "code",
   "execution_count": 6,
   "id": "f541ab6f-ab9d-4599-bfb9-3b1f8d16a11e",
   "metadata": {
    "tags": []
   },
   "outputs": [],
   "source": [
    "import matplotlib.pyplot as plt\n",
    "import numpy as np\n",
    "import pandas as pd \n",
    "import seaborn as sns\n",
    "\n",
    "sns.set_palette('colorblind') # set the palette used for plots to colorblind-friendly"
   ]
  },
  {
   "cell_type": "markdown",
   "id": "37bb8571-0d7c-4cf4-8171-7d9f4ec434e0",
   "metadata": {
    "tags": []
   },
   "source": [
    "#### Read in data\n",
    "\n",
    "We will be getting data from Excel files today so we will use the `read_excel` function from `pandas`. This will create a `DataFrame` -- similar to having a rows-and-columns style data structure you may be familiar with from working with Excel."
   ]
  },
  {
   "cell_type": "code",
   "execution_count": 7,
   "id": "27ddc36f-1230-45b0-b5b1-db674f757496",
   "metadata": {
    "tags": []
   },
   "outputs": [],
   "source": [
    "\n",
    "df_song = pd.read_excel(\"Song_2019_SST_C.xlsx\") # get data from Song et al. (2019)\n",
    "df_scot = pd.read_excel(\"Scotese_2021_T.xlsx\") # get data from Scotese (2021)\n",
    "df_gross = pd.read_excel(\"grossman_2022_locfit_T_5Ma.xlsx\") # get data from Grossman et al. (2022)\n",
    "\n"
   ]
  },
  {
   "cell_type": "markdown",
   "id": "0a3d7f3a-dba2-4415-b2df-3a9362622832",
   "metadata": {},
   "source": [
    "All of these data use the isotope ratios of ancient sediments as a proxy for ocean temperature. The Grossman data are from shallow, tropical seas. The Scotese data are global averages. "
   ]
  },
  {
   "cell_type": "markdown",
   "id": "be550b13-8a15-4169-8f66-a73ede20216b",
   "metadata": {
    "tags": []
   },
   "source": [
    "#### Take a look at the data...\n",
    "\n",
    "Units aren't listed -- what units do we think Age, Temperature, and CO2 are in?\n",
    "\n",
    "We would expect that given the orders of magnitude of the data, age would be in millions of years ago, temperature would be in Celsius, and CO_2 would be in ppm."
   ]
  },
  {
   "cell_type": "code",
   "execution_count": 8,
   "id": "a2e2495a-e1dc-4c47-8d81-253290d03d94",
   "metadata": {
    "tags": []
   },
   "outputs": [
    {
     "data": {
      "text/html": [
       "<div>\n",
       "<style scoped>\n",
       "    .dataframe tbody tr th:only-of-type {\n",
       "        vertical-align: middle;\n",
       "    }\n",
       "\n",
       "    .dataframe tbody tr th {\n",
       "        vertical-align: top;\n",
       "    }\n",
       "\n",
       "    .dataframe thead th {\n",
       "        text-align: right;\n",
       "    }\n",
       "</style>\n",
       "<table border=\"1\" class=\"dataframe\">\n",
       "  <thead>\n",
       "    <tr style=\"text-align: right;\">\n",
       "      <th></th>\n",
       "      <th>Age</th>\n",
       "      <th>Temperature</th>\n",
       "      <th>CO2</th>\n",
       "    </tr>\n",
       "  </thead>\n",
       "  <tbody>\n",
       "    <tr>\n",
       "      <th>0</th>\n",
       "      <td>500</td>\n",
       "      <td>46.59</td>\n",
       "      <td>4047</td>\n",
       "    </tr>\n",
       "    <tr>\n",
       "      <th>1</th>\n",
       "      <td>490</td>\n",
       "      <td>48.65</td>\n",
       "      <td>3513</td>\n",
       "    </tr>\n",
       "    <tr>\n",
       "      <th>2</th>\n",
       "      <td>480</td>\n",
       "      <td>40.83</td>\n",
       "      <td>3171</td>\n",
       "    </tr>\n",
       "    <tr>\n",
       "      <th>3</th>\n",
       "      <td>470</td>\n",
       "      <td>35.14</td>\n",
       "      <td>2837</td>\n",
       "    </tr>\n",
       "    <tr>\n",
       "      <th>4</th>\n",
       "      <td>460</td>\n",
       "      <td>32.14</td>\n",
       "      <td>2435</td>\n",
       "    </tr>\n",
       "    <tr>\n",
       "      <th>5</th>\n",
       "      <td>450</td>\n",
       "      <td>27.94</td>\n",
       "      <td>2536</td>\n",
       "    </tr>\n",
       "    <tr>\n",
       "      <th>6</th>\n",
       "      <td>440</td>\n",
       "      <td>28.25</td>\n",
       "      <td>2600</td>\n",
       "    </tr>\n",
       "    <tr>\n",
       "      <th>7</th>\n",
       "      <td>430</td>\n",
       "      <td>28.38</td>\n",
       "      <td>1957</td>\n",
       "    </tr>\n",
       "    <tr>\n",
       "      <th>8</th>\n",
       "      <td>420</td>\n",
       "      <td>30.68</td>\n",
       "      <td>2550</td>\n",
       "    </tr>\n",
       "    <tr>\n",
       "      <th>9</th>\n",
       "      <td>410</td>\n",
       "      <td>30.85</td>\n",
       "      <td>2612</td>\n",
       "    </tr>\n",
       "    <tr>\n",
       "      <th>10</th>\n",
       "      <td>400</td>\n",
       "      <td>27.28</td>\n",
       "      <td>2773</td>\n",
       "    </tr>\n",
       "    <tr>\n",
       "      <th>11</th>\n",
       "      <td>390</td>\n",
       "      <td>25.74</td>\n",
       "      <td>1415</td>\n",
       "    </tr>\n",
       "    <tr>\n",
       "      <th>12</th>\n",
       "      <td>380</td>\n",
       "      <td>28.22</td>\n",
       "      <td>1647</td>\n",
       "    </tr>\n",
       "    <tr>\n",
       "      <th>13</th>\n",
       "      <td>370</td>\n",
       "      <td>32.32</td>\n",
       "      <td>1075</td>\n",
       "    </tr>\n",
       "    <tr>\n",
       "      <th>14</th>\n",
       "      <td>360</td>\n",
       "      <td>28.68</td>\n",
       "      <td>786</td>\n",
       "    </tr>\n",
       "    <tr>\n",
       "      <th>15</th>\n",
       "      <td>350</td>\n",
       "      <td>23.61</td>\n",
       "      <td>279</td>\n",
       "    </tr>\n",
       "    <tr>\n",
       "      <th>16</th>\n",
       "      <td>340</td>\n",
       "      <td>18.01</td>\n",
       "      <td>369</td>\n",
       "    </tr>\n",
       "    <tr>\n",
       "      <th>17</th>\n",
       "      <td>330</td>\n",
       "      <td>13.90</td>\n",
       "      <td>292</td>\n",
       "    </tr>\n",
       "    <tr>\n",
       "      <th>18</th>\n",
       "      <td>320</td>\n",
       "      <td>11.34</td>\n",
       "      <td>318</td>\n",
       "    </tr>\n",
       "    <tr>\n",
       "      <th>19</th>\n",
       "      <td>310</td>\n",
       "      <td>18.26</td>\n",
       "      <td>334</td>\n",
       "    </tr>\n",
       "    <tr>\n",
       "      <th>20</th>\n",
       "      <td>300</td>\n",
       "      <td>17.90</td>\n",
       "      <td>341</td>\n",
       "    </tr>\n",
       "    <tr>\n",
       "      <th>21</th>\n",
       "      <td>290</td>\n",
       "      <td>15.28</td>\n",
       "      <td>408</td>\n",
       "    </tr>\n",
       "    <tr>\n",
       "      <th>22</th>\n",
       "      <td>280</td>\n",
       "      <td>15.37</td>\n",
       "      <td>396</td>\n",
       "    </tr>\n",
       "    <tr>\n",
       "      <th>23</th>\n",
       "      <td>270</td>\n",
       "      <td>17.87</td>\n",
       "      <td>338</td>\n",
       "    </tr>\n",
       "    <tr>\n",
       "      <th>24</th>\n",
       "      <td>260</td>\n",
       "      <td>21.18</td>\n",
       "      <td>390</td>\n",
       "    </tr>\n",
       "    <tr>\n",
       "      <th>25</th>\n",
       "      <td>250</td>\n",
       "      <td>24.50</td>\n",
       "      <td>1599</td>\n",
       "    </tr>\n",
       "    <tr>\n",
       "      <th>26</th>\n",
       "      <td>240</td>\n",
       "      <td>26.60</td>\n",
       "      <td>1437</td>\n",
       "    </tr>\n",
       "    <tr>\n",
       "      <th>27</th>\n",
       "      <td>230</td>\n",
       "      <td>22.47</td>\n",
       "      <td>1325</td>\n",
       "    </tr>\n",
       "    <tr>\n",
       "      <th>28</th>\n",
       "      <td>220</td>\n",
       "      <td>22.07</td>\n",
       "      <td>906</td>\n",
       "    </tr>\n",
       "    <tr>\n",
       "      <th>29</th>\n",
       "      <td>210</td>\n",
       "      <td>22.79</td>\n",
       "      <td>788</td>\n",
       "    </tr>\n",
       "    <tr>\n",
       "      <th>30</th>\n",
       "      <td>200</td>\n",
       "      <td>17.86</td>\n",
       "      <td>421</td>\n",
       "    </tr>\n",
       "    <tr>\n",
       "      <th>31</th>\n",
       "      <td>190</td>\n",
       "      <td>21.06</td>\n",
       "      <td>486</td>\n",
       "    </tr>\n",
       "    <tr>\n",
       "      <th>32</th>\n",
       "      <td>180</td>\n",
       "      <td>23.56</td>\n",
       "      <td>360</td>\n",
       "    </tr>\n",
       "    <tr>\n",
       "      <th>33</th>\n",
       "      <td>170</td>\n",
       "      <td>23.71</td>\n",
       "      <td>268</td>\n",
       "    </tr>\n",
       "    <tr>\n",
       "      <th>34</th>\n",
       "      <td>160</td>\n",
       "      <td>20.55</td>\n",
       "      <td>292</td>\n",
       "    </tr>\n",
       "    <tr>\n",
       "      <th>35</th>\n",
       "      <td>150</td>\n",
       "      <td>19.68</td>\n",
       "      <td>318</td>\n",
       "    </tr>\n",
       "    <tr>\n",
       "      <th>36</th>\n",
       "      <td>140</td>\n",
       "      <td>17.72</td>\n",
       "      <td>400</td>\n",
       "    </tr>\n",
       "    <tr>\n",
       "      <th>37</th>\n",
       "      <td>130</td>\n",
       "      <td>21.16</td>\n",
       "      <td>411</td>\n",
       "    </tr>\n",
       "    <tr>\n",
       "      <th>38</th>\n",
       "      <td>120</td>\n",
       "      <td>22.06</td>\n",
       "      <td>363</td>\n",
       "    </tr>\n",
       "    <tr>\n",
       "      <th>39</th>\n",
       "      <td>110</td>\n",
       "      <td>20.59</td>\n",
       "      <td>348</td>\n",
       "    </tr>\n",
       "    <tr>\n",
       "      <th>40</th>\n",
       "      <td>100</td>\n",
       "      <td>25.06</td>\n",
       "      <td>290</td>\n",
       "    </tr>\n",
       "    <tr>\n",
       "      <th>41</th>\n",
       "      <td>90</td>\n",
       "      <td>30.59</td>\n",
       "      <td>193</td>\n",
       "    </tr>\n",
       "    <tr>\n",
       "      <th>42</th>\n",
       "      <td>80</td>\n",
       "      <td>20.47</td>\n",
       "      <td>187</td>\n",
       "    </tr>\n",
       "    <tr>\n",
       "      <th>43</th>\n",
       "      <td>70</td>\n",
       "      <td>16.84</td>\n",
       "      <td>203</td>\n",
       "    </tr>\n",
       "    <tr>\n",
       "      <th>44</th>\n",
       "      <td>60</td>\n",
       "      <td>17.86</td>\n",
       "      <td>249</td>\n",
       "    </tr>\n",
       "    <tr>\n",
       "      <th>45</th>\n",
       "      <td>50</td>\n",
       "      <td>21.80</td>\n",
       "      <td>283</td>\n",
       "    </tr>\n",
       "    <tr>\n",
       "      <th>46</th>\n",
       "      <td>40</td>\n",
       "      <td>17.80</td>\n",
       "      <td>234</td>\n",
       "    </tr>\n",
       "    <tr>\n",
       "      <th>47</th>\n",
       "      <td>30</td>\n",
       "      <td>17.97</td>\n",
       "      <td>219</td>\n",
       "    </tr>\n",
       "    <tr>\n",
       "      <th>48</th>\n",
       "      <td>20</td>\n",
       "      <td>17.52</td>\n",
       "      <td>242</td>\n",
       "    </tr>\n",
       "    <tr>\n",
       "      <th>49</th>\n",
       "      <td>10</td>\n",
       "      <td>16.63</td>\n",
       "      <td>271</td>\n",
       "    </tr>\n",
       "    <tr>\n",
       "      <th>50</th>\n",
       "      <td>0</td>\n",
       "      <td>16.88</td>\n",
       "      <td>269</td>\n",
       "    </tr>\n",
       "  </tbody>\n",
       "</table>\n",
       "</div>"
      ],
      "text/plain": [
       "    Age  Temperature   CO2\n",
       "0   500        46.59  4047\n",
       "1   490        48.65  3513\n",
       "2   480        40.83  3171\n",
       "3   470        35.14  2837\n",
       "4   460        32.14  2435\n",
       "5   450        27.94  2536\n",
       "6   440        28.25  2600\n",
       "7   430        28.38  1957\n",
       "8   420        30.68  2550\n",
       "9   410        30.85  2612\n",
       "10  400        27.28  2773\n",
       "11  390        25.74  1415\n",
       "12  380        28.22  1647\n",
       "13  370        32.32  1075\n",
       "14  360        28.68   786\n",
       "15  350        23.61   279\n",
       "16  340        18.01   369\n",
       "17  330        13.90   292\n",
       "18  320        11.34   318\n",
       "19  310        18.26   334\n",
       "20  300        17.90   341\n",
       "21  290        15.28   408\n",
       "22  280        15.37   396\n",
       "23  270        17.87   338\n",
       "24  260        21.18   390\n",
       "25  250        24.50  1599\n",
       "26  240        26.60  1437\n",
       "27  230        22.47  1325\n",
       "28  220        22.07   906\n",
       "29  210        22.79   788\n",
       "30  200        17.86   421\n",
       "31  190        21.06   486\n",
       "32  180        23.56   360\n",
       "33  170        23.71   268\n",
       "34  160        20.55   292\n",
       "35  150        19.68   318\n",
       "36  140        17.72   400\n",
       "37  130        21.16   411\n",
       "38  120        22.06   363\n",
       "39  110        20.59   348\n",
       "40  100        25.06   290\n",
       "41   90        30.59   193\n",
       "42   80        20.47   187\n",
       "43   70        16.84   203\n",
       "44   60        17.86   249\n",
       "45   50        21.80   283\n",
       "46   40        17.80   234\n",
       "47   30        17.97   219\n",
       "48   20        17.52   242\n",
       "49   10        16.63   271\n",
       "50    0        16.88   269"
      ]
     },
     "metadata": {},
     "output_type": "display_data"
    }
   ],
   "source": [
    "display(df_song)"
   ]
  },
  {
   "cell_type": "markdown",
   "id": "909c2e3d-54a5-478c-a8d1-21c0a2322417",
   "metadata": {},
   "source": [
    "We can access columns like this:"
   ]
  },
  {
   "cell_type": "code",
   "execution_count": 9,
   "id": "b789249d-ca2a-4366-8c00-7d4c2a2fae9b",
   "metadata": {
    "tags": []
   },
   "outputs": [
    {
     "data": {
      "text/plain": [
       "0     500\n",
       "1     490\n",
       "2     480\n",
       "3     470\n",
       "4     460\n",
       "5     450\n",
       "6     440\n",
       "7     430\n",
       "8     420\n",
       "9     410\n",
       "10    400\n",
       "11    390\n",
       "12    380\n",
       "13    370\n",
       "14    360\n",
       "15    350\n",
       "16    340\n",
       "17    330\n",
       "18    320\n",
       "19    310\n",
       "20    300\n",
       "21    290\n",
       "22    280\n",
       "23    270\n",
       "24    260\n",
       "25    250\n",
       "26    240\n",
       "27    230\n",
       "28    220\n",
       "29    210\n",
       "30    200\n",
       "31    190\n",
       "32    180\n",
       "33    170\n",
       "34    160\n",
       "35    150\n",
       "36    140\n",
       "37    130\n",
       "38    120\n",
       "39    110\n",
       "40    100\n",
       "41     90\n",
       "42     80\n",
       "43     70\n",
       "44     60\n",
       "45     50\n",
       "46     40\n",
       "47     30\n",
       "48     20\n",
       "49     10\n",
       "50      0\n",
       "Name: Age, dtype: int64"
      ]
     },
     "metadata": {},
     "output_type": "display_data"
    }
   ],
   "source": [
    "display(df_song.Age)"
   ]
  },
  {
   "cell_type": "markdown",
   "id": "0d991a38-cf75-4497-bd32-80d197f58d1d",
   "metadata": {},
   "source": [
    "And we can access elements of each columns like this:"
   ]
  },
  {
   "cell_type": "code",
   "execution_count": 10,
   "id": "4320e457-8813-440e-815e-91ecca902fac",
   "metadata": {
    "tags": []
   },
   "outputs": [
    {
     "data": {
      "text/plain": [
       "450"
      ]
     },
     "metadata": {},
     "output_type": "display_data"
    },
    {
     "data": {
      "text/plain": [
       "2536"
      ]
     },
     "metadata": {},
     "output_type": "display_data"
    }
   ],
   "source": [
    "display(df_song.Age.iloc[5]) # indexing (with slightly different syntax than before)\n",
    "display(df_song.CO2.iloc[5])"
   ]
  },
  {
   "cell_type": "markdown",
   "id": "9e3fa742-ee93-4293-a607-d8d4aa2a0df0",
   "metadata": {},
   "source": [
    "#### Using CO$_2$ data to force our model\n",
    "\n",
    "We will use the Phanerozoic CO$_2$ reconstruction from Song et al. (2019) to give us CO$_2$ values over the Phanerozoic. We will run these values through our climate model to see how equilibrium temperature responds to perturbations in CO$_2$."
   ]
  },
  {
   "cell_type": "markdown",
   "id": "dd5be382-57a8-4263-8cba-b80c5dc0fac1",
   "metadata": {},
   "source": [
    "First, we need to establish a relationship between CO$_2$ concentration and radiative forcing. We can use this equation from the IPCC:\n",
    "\n",
    "![IPCC CO2 RF](IPCC_CO2_RF.png)\n",
    "\n",
    "Where C$_0$ is pre-industrial CO$_2$ concentration and C is CO$_2$ concentration for the time of interest."
   ]
  },
  {
   "cell_type": "code",
   "execution_count": 11,
   "id": "8d088c43-b15f-4605-a01e-b1b32190733f",
   "metadata": {
    "tags": []
   },
   "outputs": [
    {
     "name": "stdout",
     "output_type": "stream",
     "text": [
      "1.9082109500722182\n",
      "5.616548366067925\n"
     ]
    }
   ],
   "source": [
    "def calc_R(co2, co2_0):\n",
    "    \n",
    "    '''\n",
    "    Return radiative forcing in W/m^2 given atmospheric CO_2 at some time, \n",
    "    and CO_2_0 (preindustrial atmospheric CO_2 concentration)\n",
    "    \n",
    "        INPUT: \n",
    "            co2: atmospheric CO_2 concentration at time of interest\n",
    "            co2_0: preindustrial atmospheric CO_2 concentration (commonly taken to be 280ppm)\n",
    "            \n",
    "        OUTPUT:\n",
    "            Radiative forcing in W/m^2\n",
    "    '''\n",
    "    \n",
    "    a = 5.35  # seems to be in W/m^2, as the ln(C/C0) will be unitless. Value from IPCC table\n",
    "    return a * np.log(co2/co2_0)\n",
    "    \n",
    "print(calc_R(400, 280))\n",
    "print(calc_R(800, 280))"
   ]
  },
  {
   "cell_type": "markdown",
   "id": "63f634ff-4c2d-4647-b0fa-6efb46ba78ea",
   "metadata": {},
   "source": [
    "Now, let's use the model we've created so far to calculate equilibrium T for each CO2 level given by the Song et al. (2019) dataset. You will need to:\n",
    "1. Iterate through each element of the Song dataset (`df_song`).\n",
    "2. Calculate S based on the age.\n",
    "3. Calculate A based on T.\n",
    "4. Calculate R based on CO2 (from Song).\n",
    "5. Calculate equilibrium temperature based on all of these. \n",
    "6. Plot equilibrium temperature from your model vs. age\n",
    "7. Plot temperature from the Grossman dataset vs. age (on the same plot)."
   ]
  },
  {
   "cell_type": "code",
   "execution_count": 12,
   "id": "edec533f-8b83-49d5-9c7c-ca37f53acb75",
   "metadata": {
    "tags": []
   },
   "outputs": [
    {
     "name": "stdout",
     "output_type": "stream",
     "text": [
      "33 5.67e-08\n"
     ]
    },
    {
     "data": {
      "image/png": "[encoded data removed]",
      "text/plain": [
       "<Figure size 640x480 with 1 Axes>"
      ]
     },
     "metadata": {},
     "output_type": "display_data"
    }
   ],
   "source": [
    "preindustrial_CO2 = 280  # ppm; preindustrial CO2\n",
    "tropics_excess = 10  # C or K; tropics temp in excess of global temp\n",
    "\n",
    "'''\n",
    "Possible mismatch causes:\n",
    "- using temps from tropics which are significantly hotter than rest of planet\n",
    "-- would affect mismatch uniformly across time interval\n",
    "\n",
    "- not accounting for radiative forcing of water\n",
    "-- increasing radiative forcing would result in warmer model temps\n",
    "\n",
    "- not accounting for supra-logarithmic behavior of CO2 forcing effect\n",
    "-- especially important for 500-350 Ma and 250-200 Ma, periods where model does especially poorly\n",
    "\n",
    "- \n",
    "'''\n",
    "\n",
    "equil_temps = []\n",
    "gh_eff = 33\n",
    "\n",
    "print(gh_eff, sig)\n",
    "\n",
    "for i in range(df_song.Age.size):  # Loop through all rows of df_song dataset\n",
    "    age = df_song.Age.iloc[i]  # Age in millions of years from record i\n",
    "    temp = df_song.Temperature.iloc[i]  # C; temp from record i\n",
    "    co2 = df_song.CO2.iloc[i]  # ppm; CO2 from record i\n",
    "    \n",
    "    S = calc_S(age*1e6)  # W/m^2; solar flux at current age (*10^6 to get from Ma to years)\n",
    "    A = calc_A(temp + 273)  # Albedo using temp (adding 273 as input is Kelvin but temp is in C)\n",
    "    R = calc_R(co2, preindustrial_CO2)  # W/m^2; radiative forcing given CO2 concentration\n",
    "    \n",
    "    equil_temp = calc_T_equil(S, R, A, 33)  # C; Equilibrium temperature given calculated S, R, A, and GH_eff = 33\n",
    "    \n",
    "    equil_temps.append(equil_temp)  # Add equil temp to lsit of equil temps\n",
    "    # print(age, round(S,3), round(A,3), round(R,3), round(equil_temp,3))\n",
    "    \n",
    "plt.title(\"Temperature vs Age\")\n",
    "plt.xlabel(\"Millions of years ago\")\n",
    "plt.ylabel(\"Temperature (\\N{DEGREE SIGN}C)\")\n",
    "\n",
    "plt.plot(df_song.Age, equil_temps, label=\"Model\")\n",
    "plt.plot(df_gross.Age, df_gross.Temperature-tropics_excess, label=\"Grossman (adj to global temp)\")  # Subtracting tropics excess from gorssman temp to get world avg temp\n",
    "plt.legend()\n",
    "\n",
    "plt.gca().invert_xaxis()"
   ]
  },
  {
   "cell_type": "markdown",
   "id": "e0983d25-9606-4c37-bf51-3e15bd563c26",
   "metadata": {
    "tags": []
   },
   "source": [
    "**Are curves similar and if they're not (hint), why not? Comment on model vs. data. What is causing mismatch?**\n",
    "\n",
    "\n",
    "The overall trends seem similar, but it seems like our model behaves similar to a moving average. Before we accounted for the difference between the tropical temperatures and global averages, our model temperatures were quite a bit lower than the real data.\n",
    "\n",
    "After accounting for the tropical effects, we notice that the real data is much more volatile and reactive that the model. This suggests that there are positive feedback loops we haven't taken into account, especially ones that involve greenhouse gases other than CO$_2$. "
   ]
  },
  {
   "cell_type": "markdown",
   "id": "8f583d37-f0bd-4d1c-aeac-c86b18cbc43e",
   "metadata": {},
   "source": [
    "**Put your model data, Grossman T, Song T, and Scotese T on same plot. Comment on the differences between the plots.**"
   ]
  },
  {
   "cell_type": "code",
   "execution_count": 13,
   "id": "42b597f1-db07-485b-ad61-a45ca69ce5ab",
   "metadata": {
    "tags": []
   },
   "outputs": [
    {
     "data": {
      "image/png": "[encoded data removed]",
      "text/plain": [
       "<Figure size 640x480 with 1 Axes>"
      ]
     },
     "metadata": {},
     "output_type": "display_data"
    }
   ],
   "source": [
    "plt.title(\"Temperature vs Age\")\n",
    "plt.xlabel(\"Millions of years ago\")\n",
    "plt.ylabel(\"Temperature (\\N{degree sign}C)\")\n",
    "\n",
    "'''\n",
    "CHECK STYLE (CHANGE FROM COLOR TO LINESTYLE?)\n",
    "'''\n",
    "\n",
    "plt.plot(df_song.Age, equil_temps, label=\"Model\")\n",
    "# plt.plot(df_song.Age, df_song.Temperature-tropics_excess, label=\"Song\")\n",
    "# plt.plot(df_gross.Age, df_gross.Temperature-tropics_excess, label=\"Grossman\")\n",
    "plt.plot(df_scot.Age, df_scot.GAT, label=\"Scotese\")\n",
    "plt.axhline(y=15)\n",
    "\n",
    "plt.legend()\n",
    "plt.gca().invert_xaxis()"
   ]
  },
  {
   "cell_type": "markdown",
   "id": "8b62ce19-319c-4b3f-926e-c3292450c40e",
   "metadata": {
    "tags": []
   },
   "source": [
    "The Scotese dataset has a column for global average temperature, which suggests a more sophisticated methodology than the carbonate rock analyses of Song and Grossman. This may explain the close agreement of the Song and Grossman data, and the difference between these two and the Scotese data, especially before 350 Ma. The Scotese data seem more reasonable; as discussed in class, the >45$^\\circ$C temperatures at around 500 Ma would have killed off most life. \n",
    "\n",
    "Going forward, we may want to use the Scotese data as a benchmark for our models."
   ]
  },
  {
   "cell_type": "markdown",
   "id": "1833950e-fff7-4a10-9b0a-1fde2926e5fd",
   "metadata": {},
   "source": [
    "**Scatter plots of CO2 vs. T for model and for data: Song CO2 data vs. our modeled temperatures; Song CO2 data vs Song Temperature.**"
   ]
  },
  {
   "cell_type": "code",
   "execution_count": 14,
   "id": "1994b159-7cd9-4270-b137-c391b6a56be9",
   "metadata": {
    "tags": []
   },
   "outputs": [
    {
     "data": {
      "image/png": "[encoded data removed]",
      "text/plain": [
       "<Figure size 640x480 with 1 Axes>"
      ]
     },
     "metadata": {},
     "output_type": "display_data"
    },
    {
     "data": {
      "text/plain": [
       "<matplotlib.collections.PathCollection at 0x7f7d743bc650>"
      ]
     },
     "execution_count": 14,
     "metadata": {},
     "output_type": "execute_result"
    },
    {
     "data": {
      "image/png": "[encoded data removed]",
      "text/plain": [
       "<Figure size 640x480 with 1 Axes>"
      ]
     },
     "metadata": {},
     "output_type": "display_data"
    }
   ],
   "source": [
    "plt.title(\"Temperature vs CO$_2$ (Model)\")\n",
    "plt.xlabel(\"CO$_2$ Concentration (ppm)\")\n",
    "plt.ylabel(\"Temperature (\\N{degree sign}C)\")\n",
    "\n",
    "plt.scatter(df_song.CO2, equil_temps, label=\"Model\")\n",
    "# plt.legend()\n",
    "\n",
    "plt.show()\n",
    "\n",
    "plt.title(\"Temperature vs CO$_2$ (Song)\")\n",
    "plt.xlabel(\"CO$_2$ Concentration (ppm)\")\n",
    "plt.ylabel(\"Temperature (\\N{degree sign}C)\")\n",
    "\n",
    "plt.scatter(df_song.CO2, df_song.Temperature, label=\"Song\")\n",
    "# plt.legend()"
   ]
  },
  {
   "cell_type": "markdown",
   "id": "8ea24a89-e43d-441a-a9d7-588547f0019d",
   "metadata": {},
   "source": [
    "**How do CO2 and T relate in our model? Explain. How do CO2 and T relate based on the proxy data? Explain.**\n",
    "\n",
    "For both the model and data, CO$_2$ and temperature are positively correlated. The relationship is logarithmic in our model (as given by the formula from the IPCC), but this behavior is not shared by the proxy Song data. At concentrations above about 800ppm, the relationship in the Song data seems more linear, appearing somewhat exponential at concentrations above 2500ppm. This non-logarithmic relationship at high concentrations somewhat matches the analysis from Zhong and Haigh (2013). "
   ]
  },
  {
   "cell_type": "markdown",
   "id": "e71e5f1c-5848-435b-a26e-666fe873fc5f",
   "metadata": {},
   "source": [
    "**You want to study the effect of CO2 on climate. Which time periods would you be interested in exploring, and why?**\n",
    "\n",
    "We would want to study periods of sharp increases in temperature and perhaps CO$_2$. A cursory glance at the graphs suggest that sharp increases in temperature occured about about 300 Ma and 100 Ma. These events may mirror to some degree the effects of burning all of our organic carbon reserves in a very short period of time. By studying these periods, we may gain a better understanding of feedbacks in the climate system and help improve future modelling."
   ]
  }
 ],
 "metadata": {
  "kernelspec": {
   "display_name": "Python 3 (ipykernel)",
   "language": "python",
   "name": "python3"
  },
  "language_info": {
   "codemirror_mode": {
    "name": "ipython",
    "version": 3
   },
   "file_extension": ".py",
   "mimetype": "text/x-python",
   "name": "python",
   "nbconvert_exporter": "python",
   "pygments_lexer": "ipython3",
   "version": "3.11.5"
  }
 },
 "nbformat": 4,
 "nbformat_minor": 5
}
