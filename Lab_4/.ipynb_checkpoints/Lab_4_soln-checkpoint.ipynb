{
 "cells": [
  {
   "cell_type": "markdown",
   "id": "34f1fb0b-52f3-47b4-b239-5f6321cc94a3",
   "metadata": {},
   "source": [
    "### Lab 4 -- To what extent did CO2 concentrations control Phanerozoic climate?"
   ]
  },
  {
   "cell_type": "markdown",
   "id": "27aeed98-4812-414c-bfd7-1c01c6e4ed23",
   "metadata": {},
   "source": [
    "Time to look at feedback (on your own) (5 min)."
   ]
  },
  {
   "cell_type": "markdown",
   "id": "af879af9-41bd-4321-b583-cc44001af6e6",
   "metadata": {},
   "source": [
    "Warmup problem:\n",
    "\n",
    "When squirrels get together for a party, they like to have cigars. A squirrel party is successful when the number of cigars is between 40 and 60, inclusive. Unless it is the weekend, in which case there is no upper bound on the number of cigars. Return True if the party with the given values is successful, or False otherwise."
   ]
  },
  {
   "cell_type": "code",
   "execution_count": null,
   "id": "3ab81c21-9e9d-4318-aa4c-10bd6bfea1a4",
   "metadata": {},
   "outputs": [],
   "source": [
    "def cigar_party(cigars, is_weekend):\n",
    "    ..."
   ]
  },
  {
   "cell_type": "code",
   "execution_count": null,
   "id": "eaa9ec66-5f9f-43cb-895b-fb037faaf9ce",
   "metadata": {},
   "outputs": [],
   "source": [
    "cigar_party(30, False) # should return False\n",
    "cigar_party(50, False) # should return True\n",
    "cigar_party(70, True) # should return True"
   ]
  },
  {
   "cell_type": "markdown",
   "id": "d64d44c4-f814-482f-9d4f-311ad64b50f4",
   "metadata": {},
   "source": [
    "#### Clean up functions from previous labs"
   ]
  },
  {
   "cell_type": "markdown",
   "id": "6c35abad-00e5-41f4-b026-1dd640e17ecc",
   "metadata": {},
   "source": [
    "Let's take some time to make sure the functions we've made in previous labs are working correctly, are well documented, and have thoughtful variable names. We can also add some documentation to our function to make it clear what the function does and how to use it. We can use something called 'docstrings' to do this: see the example below for the `calc_S` function."
   ]
  },
  {
   "cell_type": "code",
   "execution_count": 312,
   "id": "56910817-fa42-4b76-99e5-9279595e7d7b",
   "metadata": {
    "tags": []
   },
   "outputs": [
    {
     "name": "stdout",
     "output_type": "stream",
     "text": [
      "1370.0\n"
     ]
    }
   ],
   "source": [
    "def calc_S(age):\n",
    "    \n",
    "    ''' Calculates the solar flux (S) at Earth at any point in Earth's history.\n",
    "            \n",
    "            INPUT: age, in years. Input of 1e6 will find S for 1 million years ago. Must be < 4.57e9.\n",
    "            OUTPUT: Solar flux reaching Earth in W/m^2. '''\n",
    "            \n",
    "    return ((1/(1+(2/5)*(1-((4.57e9-age)/4.57e9))))) * 1370\n",
    "\n",
    "print(calc_S(0)) # should be 1370 W/m2"
   ]
  },
  {
   "cell_type": "markdown",
   "id": "4c3ea3d6-c811-480e-be98-928ae8b442ac",
   "metadata": {},
   "source": [
    "Add documentation and a test for the `calc_A` and `calc_T_equil` functions. "
   ]
  },
  {
   "cell_type": "code",
   "execution_count": 313,
   "id": "ddd53366-2d69-4e9f-8656-913bbf51fe86",
   "metadata": {
    "tags": []
   },
   "outputs": [],
   "source": [
    "def calc_A(T):\n",
    "    ...\n",
    "    \n",
    "def calc_T_equil(S, R, A, Gh_eff):\n",
    "    ...\n",
    "    \n",
    "def calc_T_equil(A, S, R, gh_eff): # calculate Earth's equilibrium temperature\n",
    "    return np.power(((S/4)*(1-A) + R)/sig, (1/4)) + gh_eff\n",
    "\n",
    "def calc_A(T):\n",
    "    if T <= T_snowball:\n",
    "        return A_snowball\n",
    "    if T > T_snowball and T < T_no_ice:\n",
    "        return (A_no_ice + (A_snowball-A_no_ice) * (((T-T_no_ice)**2)/((T_snowball-T_no_ice)**2)))\n",
    "    if T >= T_no_ice:\n",
    "        return A_no_ice\n"
   ]
  },
  {
   "cell_type": "markdown",
   "id": "f02b671c-c2e0-451c-b819-dd50a47b3ba6",
   "metadata": {},
   "source": [
    "### Plotting data from files using `pandas`"
   ]
  },
  {
   "cell_type": "markdown",
   "id": "1744ef0c-7e34-40b7-bce3-ad0c83008621",
   "metadata": {},
   "source": [
    "Today we will be using two new packages. `pandas` is used to read in data from files such as .xlsx, .csv, and .txt. It is typically imported `as pd`. \n",
    "\n",
    "We will also be using a package called `seaborn` which we will import `as sns`. Today, we'll just use `seaborn` for it's colorblind-friendly color palette. "
   ]
  },
  {
   "cell_type": "code",
   "execution_count": 314,
   "id": "f541ab6f-ab9d-4599-bfb9-3b1f8d16a11e",
   "metadata": {
    "tags": []
   },
   "outputs": [],
   "source": [
    "import matplotlib.pyplot as plt\n",
    "import numpy as np\n",
    "import pandas as pd \n",
    "import seaborn as sns\n",
    "\n",
    "sns.set_palette('colorblind') # set the palette used for plots to colorblind-friendly"
   ]
  },
  {
   "cell_type": "markdown",
   "id": "37bb8571-0d7c-4cf4-8171-7d9f4ec434e0",
   "metadata": {
    "tags": []
   },
   "source": [
    "#### Read in data\n",
    "\n",
    "We will be getting data from Excel files today so we will use the `read_excel` function from `pandas`. This will create a `DataFrame` -- similar to having a rows-and-columns style data structure you may be familiar with from working with Excel."
   ]
  },
  {
   "cell_type": "code",
   "execution_count": 326,
   "id": "27ddc36f-1230-45b0-b5b1-db674f757496",
   "metadata": {
    "tags": []
   },
   "outputs": [],
   "source": [
    "\n",
    "df_song = pd.read_excel(\"Song_2019_SST_C.xlsx\") # get data from Song et al. (2019)\n",
    "df_scot = pd.read_excel(\"Scotese_2021_T.xlsx\") # get data from Scotese (2021)\n",
    "df_gross = pd.read_excel(\"grossman_2022_locfit_T_5Ma.xlsx\") # get data from Grossman et al. (2022)\n",
    "\n"
   ]
  },
  {
   "cell_type": "markdown",
   "id": "be550b13-8a15-4169-8f66-a73ede20216b",
   "metadata": {
    "tags": []
   },
   "source": [
    "#### Take a look at the data...\n",
    "\n",
    "Units aren't listed -- what units do we think Age, Temperature, and CO2 are in?"
   ]
  },
  {
   "cell_type": "code",
   "execution_count": 327,
   "id": "a2e2495a-e1dc-4c47-8d81-253290d03d94",
   "metadata": {
    "tags": []
   },
   "outputs": [
    {
     "data": {
      "text/html": [
       "<div>\n",
       "<style scoped>\n",
       "    .dataframe tbody tr th:only-of-type {\n",
       "        vertical-align: middle;\n",
       "    }\n",
       "\n",
       "    .dataframe tbody tr th {\n",
       "        vertical-align: top;\n",
       "    }\n",
       "\n",
       "    .dataframe thead th {\n",
       "        text-align: right;\n",
       "    }\n",
       "</style>\n",
       "<table border=\"1\" class=\"dataframe\">\n",
       "  <thead>\n",
       "    <tr style=\"text-align: right;\">\n",
       "      <th></th>\n",
       "      <th>Age</th>\n",
       "      <th>Temperature</th>\n",
       "      <th>CO2</th>\n",
       "    </tr>\n",
       "  </thead>\n",
       "  <tbody>\n",
       "    <tr>\n",
       "      <th>0</th>\n",
       "      <td>500</td>\n",
       "      <td>46.59</td>\n",
       "      <td>4047</td>\n",
       "    </tr>\n",
       "    <tr>\n",
       "      <th>1</th>\n",
       "      <td>490</td>\n",
       "      <td>48.65</td>\n",
       "      <td>3513</td>\n",
       "    </tr>\n",
       "    <tr>\n",
       "      <th>2</th>\n",
       "      <td>480</td>\n",
       "      <td>40.83</td>\n",
       "      <td>3171</td>\n",
       "    </tr>\n",
       "    <tr>\n",
       "      <th>3</th>\n",
       "      <td>470</td>\n",
       "      <td>35.14</td>\n",
       "      <td>2837</td>\n",
       "    </tr>\n",
       "    <tr>\n",
       "      <th>4</th>\n",
       "      <td>460</td>\n",
       "      <td>32.14</td>\n",
       "      <td>2435</td>\n",
       "    </tr>\n",
       "    <tr>\n",
       "      <th>5</th>\n",
       "      <td>450</td>\n",
       "      <td>27.94</td>\n",
       "      <td>2536</td>\n",
       "    </tr>\n",
       "    <tr>\n",
       "      <th>6</th>\n",
       "      <td>440</td>\n",
       "      <td>28.25</td>\n",
       "      <td>2600</td>\n",
       "    </tr>\n",
       "    <tr>\n",
       "      <th>7</th>\n",
       "      <td>430</td>\n",
       "      <td>28.38</td>\n",
       "      <td>1957</td>\n",
       "    </tr>\n",
       "    <tr>\n",
       "      <th>8</th>\n",
       "      <td>420</td>\n",
       "      <td>30.68</td>\n",
       "      <td>2550</td>\n",
       "    </tr>\n",
       "    <tr>\n",
       "      <th>9</th>\n",
       "      <td>410</td>\n",
       "      <td>30.85</td>\n",
       "      <td>2612</td>\n",
       "    </tr>\n",
       "    <tr>\n",
       "      <th>10</th>\n",
       "      <td>400</td>\n",
       "      <td>27.28</td>\n",
       "      <td>2773</td>\n",
       "    </tr>\n",
       "    <tr>\n",
       "      <th>11</th>\n",
       "      <td>390</td>\n",
       "      <td>25.74</td>\n",
       "      <td>1415</td>\n",
       "    </tr>\n",
       "    <tr>\n",
       "      <th>12</th>\n",
       "      <td>380</td>\n",
       "      <td>28.22</td>\n",
       "      <td>1647</td>\n",
       "    </tr>\n",
       "    <tr>\n",
       "      <th>13</th>\n",
       "      <td>370</td>\n",
       "      <td>32.32</td>\n",
       "      <td>1075</td>\n",
       "    </tr>\n",
       "    <tr>\n",
       "      <th>14</th>\n",
       "      <td>360</td>\n",
       "      <td>28.68</td>\n",
       "      <td>786</td>\n",
       "    </tr>\n",
       "    <tr>\n",
       "      <th>15</th>\n",
       "      <td>350</td>\n",
       "      <td>23.61</td>\n",
       "      <td>279</td>\n",
       "    </tr>\n",
       "    <tr>\n",
       "      <th>16</th>\n",
       "      <td>340</td>\n",
       "      <td>18.01</td>\n",
       "      <td>369</td>\n",
       "    </tr>\n",
       "    <tr>\n",
       "      <th>17</th>\n",
       "      <td>330</td>\n",
       "      <td>13.90</td>\n",
       "      <td>292</td>\n",
       "    </tr>\n",
       "    <tr>\n",
       "      <th>18</th>\n",
       "      <td>320</td>\n",
       "      <td>11.34</td>\n",
       "      <td>318</td>\n",
       "    </tr>\n",
       "    <tr>\n",
       "      <th>19</th>\n",
       "      <td>310</td>\n",
       "      <td>18.26</td>\n",
       "      <td>334</td>\n",
       "    </tr>\n",
       "    <tr>\n",
       "      <th>20</th>\n",
       "      <td>300</td>\n",
       "      <td>17.90</td>\n",
       "      <td>341</td>\n",
       "    </tr>\n",
       "    <tr>\n",
       "      <th>21</th>\n",
       "      <td>290</td>\n",
       "      <td>15.28</td>\n",
       "      <td>408</td>\n",
       "    </tr>\n",
       "    <tr>\n",
       "      <th>22</th>\n",
       "      <td>280</td>\n",
       "      <td>15.37</td>\n",
       "      <td>396</td>\n",
       "    </tr>\n",
       "    <tr>\n",
       "      <th>23</th>\n",
       "      <td>270</td>\n",
       "      <td>17.87</td>\n",
       "      <td>338</td>\n",
       "    </tr>\n",
       "    <tr>\n",
       "      <th>24</th>\n",
       "      <td>260</td>\n",
       "      <td>21.18</td>\n",
       "      <td>390</td>\n",
       "    </tr>\n",
       "    <tr>\n",
       "      <th>25</th>\n",
       "      <td>250</td>\n",
       "      <td>24.50</td>\n",
       "      <td>1599</td>\n",
       "    </tr>\n",
       "    <tr>\n",
       "      <th>26</th>\n",
       "      <td>240</td>\n",
       "      <td>26.60</td>\n",
       "      <td>1437</td>\n",
       "    </tr>\n",
       "    <tr>\n",
       "      <th>27</th>\n",
       "      <td>230</td>\n",
       "      <td>22.47</td>\n",
       "      <td>1325</td>\n",
       "    </tr>\n",
       "    <tr>\n",
       "      <th>28</th>\n",
       "      <td>220</td>\n",
       "      <td>22.07</td>\n",
       "      <td>906</td>\n",
       "    </tr>\n",
       "    <tr>\n",
       "      <th>29</th>\n",
       "      <td>210</td>\n",
       "      <td>22.79</td>\n",
       "      <td>788</td>\n",
       "    </tr>\n",
       "    <tr>\n",
       "      <th>30</th>\n",
       "      <td>200</td>\n",
       "      <td>17.86</td>\n",
       "      <td>421</td>\n",
       "    </tr>\n",
       "    <tr>\n",
       "      <th>31</th>\n",
       "      <td>190</td>\n",
       "      <td>21.06</td>\n",
       "      <td>486</td>\n",
       "    </tr>\n",
       "    <tr>\n",
       "      <th>32</th>\n",
       "      <td>180</td>\n",
       "      <td>23.56</td>\n",
       "      <td>360</td>\n",
       "    </tr>\n",
       "    <tr>\n",
       "      <th>33</th>\n",
       "      <td>170</td>\n",
       "      <td>23.71</td>\n",
       "      <td>268</td>\n",
       "    </tr>\n",
       "    <tr>\n",
       "      <th>34</th>\n",
       "      <td>160</td>\n",
       "      <td>20.55</td>\n",
       "      <td>292</td>\n",
       "    </tr>\n",
       "    <tr>\n",
       "      <th>35</th>\n",
       "      <td>150</td>\n",
       "      <td>19.68</td>\n",
       "      <td>318</td>\n",
       "    </tr>\n",
       "    <tr>\n",
       "      <th>36</th>\n",
       "      <td>140</td>\n",
       "      <td>17.72</td>\n",
       "      <td>400</td>\n",
       "    </tr>\n",
       "    <tr>\n",
       "      <th>37</th>\n",
       "      <td>130</td>\n",
       "      <td>21.16</td>\n",
       "      <td>411</td>\n",
       "    </tr>\n",
       "    <tr>\n",
       "      <th>38</th>\n",
       "      <td>120</td>\n",
       "      <td>22.06</td>\n",
       "      <td>363</td>\n",
       "    </tr>\n",
       "    <tr>\n",
       "      <th>39</th>\n",
       "      <td>110</td>\n",
       "      <td>20.59</td>\n",
       "      <td>348</td>\n",
       "    </tr>\n",
       "    <tr>\n",
       "      <th>40</th>\n",
       "      <td>100</td>\n",
       "      <td>25.06</td>\n",
       "      <td>290</td>\n",
       "    </tr>\n",
       "    <tr>\n",
       "      <th>41</th>\n",
       "      <td>90</td>\n",
       "      <td>30.59</td>\n",
       "      <td>193</td>\n",
       "    </tr>\n",
       "    <tr>\n",
       "      <th>42</th>\n",
       "      <td>80</td>\n",
       "      <td>20.47</td>\n",
       "      <td>187</td>\n",
       "    </tr>\n",
       "    <tr>\n",
       "      <th>43</th>\n",
       "      <td>70</td>\n",
       "      <td>16.84</td>\n",
       "      <td>203</td>\n",
       "    </tr>\n",
       "    <tr>\n",
       "      <th>44</th>\n",
       "      <td>60</td>\n",
       "      <td>17.86</td>\n",
       "      <td>249</td>\n",
       "    </tr>\n",
       "    <tr>\n",
       "      <th>45</th>\n",
       "      <td>50</td>\n",
       "      <td>21.80</td>\n",
       "      <td>283</td>\n",
       "    </tr>\n",
       "    <tr>\n",
       "      <th>46</th>\n",
       "      <td>40</td>\n",
       "      <td>17.80</td>\n",
       "      <td>234</td>\n",
       "    </tr>\n",
       "    <tr>\n",
       "      <th>47</th>\n",
       "      <td>30</td>\n",
       "      <td>17.97</td>\n",
       "      <td>219</td>\n",
       "    </tr>\n",
       "    <tr>\n",
       "      <th>48</th>\n",
       "      <td>20</td>\n",
       "      <td>17.52</td>\n",
       "      <td>242</td>\n",
       "    </tr>\n",
       "    <tr>\n",
       "      <th>49</th>\n",
       "      <td>10</td>\n",
       "      <td>16.63</td>\n",
       "      <td>271</td>\n",
       "    </tr>\n",
       "    <tr>\n",
       "      <th>50</th>\n",
       "      <td>0</td>\n",
       "      <td>16.88</td>\n",
       "      <td>269</td>\n",
       "    </tr>\n",
       "  </tbody>\n",
       "</table>\n",
       "</div>"
      ],
      "text/plain": [
       "    Age  Temperature   CO2\n",
       "0   500        46.59  4047\n",
       "1   490        48.65  3513\n",
       "2   480        40.83  3171\n",
       "3   470        35.14  2837\n",
       "4   460        32.14  2435\n",
       "5   450        27.94  2536\n",
       "6   440        28.25  2600\n",
       "7   430        28.38  1957\n",
       "8   420        30.68  2550\n",
       "9   410        30.85  2612\n",
       "10  400        27.28  2773\n",
       "11  390        25.74  1415\n",
       "12  380        28.22  1647\n",
       "13  370        32.32  1075\n",
       "14  360        28.68   786\n",
       "15  350        23.61   279\n",
       "16  340        18.01   369\n",
       "17  330        13.90   292\n",
       "18  320        11.34   318\n",
       "19  310        18.26   334\n",
       "20  300        17.90   341\n",
       "21  290        15.28   408\n",
       "22  280        15.37   396\n",
       "23  270        17.87   338\n",
       "24  260        21.18   390\n",
       "25  250        24.50  1599\n",
       "26  240        26.60  1437\n",
       "27  230        22.47  1325\n",
       "28  220        22.07   906\n",
       "29  210        22.79   788\n",
       "30  200        17.86   421\n",
       "31  190        21.06   486\n",
       "32  180        23.56   360\n",
       "33  170        23.71   268\n",
       "34  160        20.55   292\n",
       "35  150        19.68   318\n",
       "36  140        17.72   400\n",
       "37  130        21.16   411\n",
       "38  120        22.06   363\n",
       "39  110        20.59   348\n",
       "40  100        25.06   290\n",
       "41   90        30.59   193\n",
       "42   80        20.47   187\n",
       "43   70        16.84   203\n",
       "44   60        17.86   249\n",
       "45   50        21.80   283\n",
       "46   40        17.80   234\n",
       "47   30        17.97   219\n",
       "48   20        17.52   242\n",
       "49   10        16.63   271\n",
       "50    0        16.88   269"
      ]
     },
     "metadata": {},
     "output_type": "display_data"
    }
   ],
   "source": [
    "display(df_song)"
   ]
  },
  {
   "cell_type": "markdown",
   "id": "909c2e3d-54a5-478c-a8d1-21c0a2322417",
   "metadata": {},
   "source": [
    "We can access columns like this:"
   ]
  },
  {
   "cell_type": "code",
   "execution_count": 328,
   "id": "b789249d-ca2a-4366-8c00-7d4c2a2fae9b",
   "metadata": {
    "tags": []
   },
   "outputs": [
    {
     "data": {
      "text/plain": [
       "0     500\n",
       "1     490\n",
       "2     480\n",
       "3     470\n",
       "4     460\n",
       "5     450\n",
       "6     440\n",
       "7     430\n",
       "8     420\n",
       "9     410\n",
       "10    400\n",
       "11    390\n",
       "12    380\n",
       "13    370\n",
       "14    360\n",
       "15    350\n",
       "16    340\n",
       "17    330\n",
       "18    320\n",
       "19    310\n",
       "20    300\n",
       "21    290\n",
       "22    280\n",
       "23    270\n",
       "24    260\n",
       "25    250\n",
       "26    240\n",
       "27    230\n",
       "28    220\n",
       "29    210\n",
       "30    200\n",
       "31    190\n",
       "32    180\n",
       "33    170\n",
       "34    160\n",
       "35    150\n",
       "36    140\n",
       "37    130\n",
       "38    120\n",
       "39    110\n",
       "40    100\n",
       "41     90\n",
       "42     80\n",
       "43     70\n",
       "44     60\n",
       "45     50\n",
       "46     40\n",
       "47     30\n",
       "48     20\n",
       "49     10\n",
       "50      0\n",
       "Name: Age, dtype: int64"
      ]
     },
     "metadata": {},
     "output_type": "display_data"
    }
   ],
   "source": [
    "display(df_song.Age)"
   ]
  },
  {
   "cell_type": "markdown",
   "id": "0d991a38-cf75-4497-bd32-80d197f58d1d",
   "metadata": {},
   "source": [
    "And we can access elements of each columns like this:"
   ]
  },
  {
   "cell_type": "code",
   "execution_count": 330,
   "id": "4320e457-8813-440e-815e-91ecca902fac",
   "metadata": {
    "tags": []
   },
   "outputs": [
    {
     "data": {
      "text/plain": [
       "450"
      ]
     },
     "metadata": {},
     "output_type": "display_data"
    },
    {
     "data": {
      "text/plain": [
       "2536"
      ]
     },
     "metadata": {},
     "output_type": "display_data"
    }
   ],
   "source": [
    "display(df.Age.iloc[5]) # indexing (with slightly different syntax than before)\n",
    "display(df.CO2.iloc[5])"
   ]
  },
  {
   "cell_type": "markdown",
   "id": "9e3fa742-ee93-4293-a607-d8d4aa2a0df0",
   "metadata": {},
   "source": [
    "#### Using CO$_2$ data to force our model\n",
    "\n",
    "We will use the Phanerozoic CO$_2$ reconstruction from Song et al. (2019) to give us CO$_2$ values over the Phanerozoic. We will run these values through our climate model to see how equilibrium temperature responds to perturbations in CO$_2$."
   ]
  },
  {
   "cell_type": "markdown",
   "id": "dd5be382-57a8-4263-8cba-b80c5dc0fac1",
   "metadata": {},
   "source": [
    "First, we need to establish a relationship between CO$_2$ concentration and radiative forcing. We can use this equation from the IPCC:\n",
    "\n",
    "![IPCC CO2 RF](IPCC_CO2_RF.png)\n",
    "\n",
    "Where C$_0$ is pre-industrial CO$_2$ concentration and C is CO$_2$ concentration for the time of interest."
   ]
  },
  {
   "cell_type": "code",
   "execution_count": 316,
   "id": "8d088c43-b15f-4605-a01e-b1b32190733f",
   "metadata": {
    "tags": []
   },
   "outputs": [
    {
     "name": "stdout",
     "output_type": "stream",
     "text": [
      "1.9082109500722182\n",
      "5.616548366067925\n"
     ]
    }
   ],
   "source": [
    "\n",
    "def calc_R_ipcc(co2):\n",
    "    return 5.35*np.log(co2/co2_pi) # RF of co2 per IPCC as from Eq. 5 The Relationship between Atmospheric Carbon Dioxide Concentration and Global Temperature forthe Last 425 Million Years\n",
    "\n",
    "print(calc_R_ipcc(400))\n",
    "print(calc_R_ipcc(800))"
   ]
  },
  {
   "cell_type": "code",
   "execution_count": 321,
   "id": "edec533f-8b83-49d5-9c7c-ca37f53acb75",
   "metadata": {
    "tags": []
   },
   "outputs": [],
   "source": [
    "sig = 5.67e-8 # W/m^2/K^4 Stefan-Boltzmann constant\n",
    "A_no_ice = 0.289 # albedo of warm, ice-free planet\n",
    "A_snowball = 0.7 # ice-covered albedo\n",
    "T_no_ice = 293 # K; temperature above which model is ice-free\n",
    "T_snowball = 260 # K; temperature below which Earth is ice-covered\n",
    "co2_pi = 280\n",
    "merid_offset = 13 # T records come from tropics... see Judd F1\n",
    "gh_eff_0 = 32 # pre-industrial greenhouse effect\n",
    "T = 288 # get things started\n",
    "\n",
    "T_equil = []\n",
    "T_equil_iter = []\n",
    "\n",
    "for i in range(len(df)):\n",
    "    #for j in range(50):\n",
    "    S = calc_S(df.Age.iloc[i]*1e6)\n",
    "    A = calc_A(T)\n",
    "    R = calc_R_ipcc(df.CO2.iloc[i]) # MODTRAN + excel to get\n",
    "    #R_wvf = R + (1.86 * (T - 288))\n",
    "    T = calc_T_equil(A, S, R, gh_eff_0)\n",
    "    T_equil.append(T - 273)# + merid_offset)\n",
    "\n",
    "# for i in range(len(df)):\n",
    "#     for j in range(50):\n",
    "#         S = calc_S(df.Age.iloc[i]*1e6)\n",
    "#         A = calc_A(T)\n",
    "#         R = calc_R_ipcc(df.CO2.iloc[i]) # MODTRAN + excel to get\n",
    "#         if T > 280 and T < 296:\n",
    "#             R_wvf = R + (1.86 * (T - 288))\n",
    "#         else: R_wvf = R\n",
    "#         T = calc_T_equil(A, S, R_wvf, gh_eff_0)\n",
    "#     T_equil_iter.append(T - 273 + merid_offset)\n",
    "\n",
    "    \n",
    "    \n",
    "\n"
   ]
  },
  {
   "cell_type": "code",
   "execution_count": 322,
   "id": "9ad109c9-8515-44b3-8dfd-aa3be61e3d38",
   "metadata": {
    "tags": []
   },
   "outputs": [],
   "source": [
    " R_wvf = R + 1.86 * (T - 288)"
   ]
  },
  {
   "cell_type": "markdown",
   "id": "c5d141f8-9ff4-4705-bb2a-bcc18a0a732d",
   "metadata": {},
   "source": [
    "![Yin 2023 SST Normals](Yin_2023_SST_normals.jpg)"
   ]
  },
  {
   "cell_type": "markdown",
   "id": "f8bbdf4f-9a32-4b25-9e22-4023777ddd06",
   "metadata": {},
   "source": [
    "Can also check out Judd et al. if you're curious about this."
   ]
  },
  {
   "cell_type": "markdown",
   "id": "b94a28c4-a9ae-4b6b-b028-c9c7a942ddd3",
   "metadata": {},
   "source": [
    "How does our model compare to CO2? Does it change in the way you would expect? Now layer on data from paleoclimate record (ok that you don't know exactly how this came to be). Why offset (tropical vs. GAT!)? Better, but still offset. Why? "
   ]
  },
  {
   "cell_type": "code",
   "execution_count": 323,
   "id": "997b5718-afaf-4b58-9bff-2ddfcf417c88",
   "metadata": {
    "tags": []
   },
   "outputs": [
    {
     "data": {
      "text/plain": [
       "<matplotlib.legend.Legend at 0x282ba9b10>"
      ]
     },
     "execution_count": 323,
     "metadata": {},
     "output_type": "execute_result"
    },
    {
     "data": {
      "image/png": "[encoded data removed]",
      "text/plain": [
       "<Figure size 640x480 with 2 Axes>"
      ]
     },
     "metadata": {},
     "output_type": "display_data"
    }
   ],
   "source": [
    "fig, ax = plt.subplots()\n",
    "\n",
    "ax2 = ax.twinx()\n",
    "\n",
    "#ax.plot(df.Age, df.Temperature, label = 'Song T')\n",
    "ax.plot(df_g.Age, df_g.Temperature, label = 'Grossman T')\n",
    "ax.plot(df.Age, T_equil, label = 'Our model')\n",
    "#ax.plot(df.Age, T_equil_iter, label = 'Our model 50 iter')\n",
    "#ax.plot(df_s.Age, df_s.GAT, label = 'Scotese')\n",
    "ax.axhline(15, color = 'black', ls = '--')\n",
    "ax.axhline(16.5, color = 'black', ls = '--')\n",
    "\n",
    "\n",
    "ax2.plot(df.Age, df.CO2, label = 'Song CO2', color = 'black')\n",
    "\n",
    "\n",
    "plt.gca().invert_xaxis()\n",
    "fig.legend()"
   ]
  },
  {
   "cell_type": "code",
   "execution_count": 253,
   "id": "5a0e58a5-f00b-4c48-a0d1-96b803177350",
   "metadata": {
    "tags": []
   },
   "outputs": [
    {
     "data": {
      "text/plain": [
       "<matplotlib.collections.PathCollection at 0x281283910>"
      ]
     },
     "execution_count": 253,
     "metadata": {},
     "output_type": "execute_result"
    },
    {
     "data": {
      "image/png": "[encoded data removed]",
      "text/plain": [
       "<Figure size 640x480 with 1 Axes>"
      ]
     },
     "metadata": {},
     "output_type": "display_data"
    }
   ],
   "source": [
    "plt.scatter(df.CO2, df.Temperature)"
   ]
  },
  {
   "cell_type": "code",
   "execution_count": 254,
   "id": "3e0ed71a-0619-4980-8dd0-45d64a18d50e",
   "metadata": {
    "tags": []
   },
   "outputs": [
    {
     "data": {
      "text/plain": [
       "<matplotlib.collections.PathCollection at 0x177eba2d0>"
      ]
     },
     "execution_count": 254,
     "metadata": {},
     "output_type": "execute_result"
    },
    {
     "data": {
      "image/png": "[encoded data removed]",
      "text/plain": [
       "<Figure size 640x480 with 1 Axes>"
      ]
     },
     "metadata": {},
     "output_type": "display_data"
    }
   ],
   "source": [
    "plt.scatter(df.CO2, T_equil)"
   ]
  },
  {
   "cell_type": "markdown",
   "id": "8a4863e7-ab0e-4415-8da1-9552ff110c52",
   "metadata": {},
   "source": [
    "You're interested in studying Earth's climate response to ongoing anthropogenic emissions. Which time period(s) would you want to study? Why? What considerations might you have to make?"
   ]
  },
  {
   "cell_type": "code",
   "execution_count": 93,
   "id": "22151cff-b4b5-4346-b55d-716e5d4b6118",
   "metadata": {
    "tags": []
   },
   "outputs": [
    {
     "name": "stdout",
     "output_type": "stream",
     "text": [
      "0.6036995770994008\n"
     ]
    }
   ],
   "source": []
  },
  {
   "cell_type": "code",
   "execution_count": 84,
   "id": "d50bc24a-8140-4496-b97f-4bb60326fcbb",
   "metadata": {
    "tags": []
   },
   "outputs": [
    {
     "data": {
      "text/plain": [
       "2.3195619679455435"
      ]
     },
     "execution_count": 84,
     "metadata": {},
     "output_type": "execute_result"
    }
   ],
   "source": [
    "\n",
    "\n",
    "delta_T = 2.28 * np.log(co2/100) -2.5\n",
    "delta_T"
   ]
  },
  {
   "cell_type": "code",
   "execution_count": 96,
   "id": "3ea40bdd-6822-42ea-a3a8-a2d2379527fc",
   "metadata": {
    "tags": []
   },
   "outputs": [
    {
     "name": "stdout",
     "output_type": "stream",
     "text": [
      "82.13138788836154\n"
     ]
    }
   ],
   "source": [
    "print((2.58/sig)**(1/4)) "
   ]
  },
  {
   "cell_type": "code",
   "execution_count": null,
   "id": "3fbdbc8b-5498-4eca-ade5-ccf58f34edb8",
   "metadata": {},
   "outputs": [],
   "source": [
    "print(np.power(((S/4)*(1-A))/sig, (1/4)) + GHG)"
   ]
  },
  {
   "cell_type": "code",
   "execution_count": 107,
   "id": "54115382-59e0-44b5-b349-8cd346d08b95",
   "metadata": {
    "tags": []
   },
   "outputs": [
    {
     "name": "stdout",
     "output_type": "stream",
     "text": [
      "0.6106065177440831\n"
     ]
    }
   ],
   "source": [
    "x = 848\n",
    "\n",
    "print(0.0342*np.log(x) + 0.38)"
   ]
  },
  {
   "cell_type": "code",
   "execution_count": null,
   "id": "16471c39-616d-40ae-b134-e98c2fc8fb72",
   "metadata": {},
   "outputs": [],
   "source": []
  }
 ],
 "metadata": {
  "kernelspec": {
   "display_name": "Python 3 (ipykernel)",
   "language": "python",
   "name": "python3"
  },
  "language_info": {
   "codemirror_mode": {
    "name": "ipython",
    "version": 3
   },
   "file_extension": ".py",
   "mimetype": "text/x-python",
   "name": "python",
   "nbconvert_exporter": "python",
   "pygments_lexer": "ipython3",
   "version": "3.11.3"
  }
 },
 "nbformat": 4,
 "nbformat_minor": 5
}
