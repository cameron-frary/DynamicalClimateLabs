








import matplotlib.pyplot as plt

names = ["Permafrost", "Methane", "Fires", "Tectonics", "Seaway"]
counts = [5, 5, 0, 4, 7]

plt.bar(names, counts, color='k')
plt.xticks(names, rotation=45)

plt.title("Popularity of PETM explanations")
plt.ylabel("Number of students")
plt.xlabel("Explanation")








import pooch
import os
import tempfile
import pandas as pd
import numpy as np
import matplotlib.pyplot as plt

import pyleoclim as pyleo





def pooch_load(filelocation=None, filename=None, processor=None):
    
    user_temp_cache = tempfile.gettempdir()  # Create cache for storing temp files? 
    
    #  Retrieve file from given location without a security hash. 
    #  Then make the filename the path of the temp directory appended to filename with OS appropriate separators
    #  Dunno what processor does
    file = pooch.retrieve(
        filelocation,
        known_hash=None,
        fname=os.path.join(user_temp_cache, filename),
        processor=processor,
    )

    return file





filename_LR04 = "LR04.csv"  # Set filename (which doesn't actually matter)
url_LR04 = (
    "https://raw.githubusercontent.com/LinkedEarth/PyleoTutorials/main/data/LR04.csv"
)  #  Give URL of data from Pyleoclim people
lr04_data = pd.read_csv(
    #  Get the data from the Github servers and put in cache before reading to Pandas dataframe
    pooch_load(filelocation=url_LR04, filename=filename_LR04), skiprows=4
)

# Print a couple rows of data to see what's up
lr04_data.head()





ts_lr04 = pyleo.Series(
    time=lr04_data["Time (ka)"],  # Give time values
    value=lr04_data["Benthic d18O (per mil)  "],  # Give benthic delta O18 values
    time_name="Age",  # Time label
    time_unit="kyr BP",  # Time in thousands of years before present
    value_name="Benthic d18O (per mil)",  # Data label
    value_unit="\u2030",  # Benthic delta O18 in per thousand
    label="LR04",  # Timeseries label
)





# consider data from now to 1 Ma (or 5000 for 5 Ma)
t0 = 0
t1 = 1000

lr04_slice = ts_lr04.slice([t0, t1])  # get the desired data
fig, ax = plt.subplots()  # create subplots
# Plot lr04 on the ax axes without a legend, with inverted x- and y-axes, in black.
lr04_slice.plot(ax=ax, legend=False, invert_yaxis=True, invert_xaxis=True, color='k')








# Assume seawater has same d18O as present. Might not be an appropriate assumption
d18O_sw = 0

def calc_d18O_T(d18O_min):
    # Return calculated temperature based on d18O of mineral samples using given equation
    return 16.1 - 4.64*(d18O_min - d18O_sw - 0.27) + 0.09*(d18O_min - d18O_sw - 0.27)**2

# Create an empty list to store temperatures
T_list = []

# Iterate through the mineral d18O records, calculating temperature estimate and appending it to the list
for i in lr04_data['Benthic d18O (per mil)  ']:
    T_estimate = calc_d18O_T(i)
    T_list.append(T_estimate)

# Plot time on the x-axis and our generated temperature estimates on the y-axis, in black.
plt.plot(lr04_data['Time (ka)'], T_list, color='k')
plt.gca().invert_xaxis()  # Invert the x-axis so time advances to the right. Add title and axes labels as usual
plt.title("Temperature from $\delta^{18}$O")
plt.xlabel("Thousands of years ago")
plt.ylabel("Deep sea temperature (\N{DEGREE SIGN}C)")








fig, ax = plt.subplots()

'''
In each code block below, the data is standardized before spectral analysis is conducted. 
- The interp() function interpolates the data onto a time axis with a step size of 0.5
- The standardize() function subtracts the mean from the data and then divides the standard deviation
- The spectral() method conducts spectral analysis by the given method
- The plot() plots on the subplot axes the output of the spectral analysis with the given x- and y-axis limits
and appropriate label.

Note: it may be very slightly faster to save the interpolated and standardized data in a variable
so to minimize redundant function calls, at the expense of readability.
'''

# basic periodogram
lr04_slice.interp(step=0.5).standardize().spectral(method="periodogram").plot(
    ax=ax, xlim=[1000, 5], ylim=[0.001, 1000], label="periodogram"
)
# Welch's periodogram
lr04_slice.interp(step=0.5).standardize().spectral(method="welch").plot(
    ax=ax, xlim=[1000, 5], ylim=[0.001, 1000], label="welch"
)
# Multi-taper Method
lr04_slice.interp(step=0.5).standardize().spectral(method="mtm").plot(
    ax=ax, xlim=[1000, 5], ylim=[0.001, 1000], label="mtm"
)
# Lomb-Scargle periodogram
lr04_slice.interp(step=0.5).standardize().spectral(method="lomb_scargle").plot(
    ax=ax, xlim=[1000, 5], ylim=[0.001, 1000], label="lomb_scargle"
)
# weighted wavelet Z-transform (WWZ)
lr04_slice.interp(step=0.5).standardize().spectral(method="wwz").plot(
    ax=ax, xlim=[1000, 5], ylim=[0.001, 1000], label="wwz")








# Lomb-Scargle periodogram using same method as above
lr04_ls_sd = lr04_slice.interp(step=0.5).standardize().spectral(method="lomb_scargle")

# Standard plot which seems to be using matplotlib subplots.
lr04_ls_sd.plot(xlim=[1000, 5], ylim=[0.001, 1000], label="lomb_scargle")





lr04_ls_sd_sig = lr04_ls_sd.signif_test()

# This significance test will tell us which periods have statistically significant PSD values, 
# where statistic significance means that there is less than 5%
# chance the PSD value is due to random variation


lr04_ls_sd_sig.plot(xlabel="Period [kyrs]")





# This plots the significance as a function of frequency, highlighting significant frequencies
# The 'subplots' method is used here with the appropriate 'set_[graph attribute]' methods.

fig, ax = plt.subplots()
ax.plot(lr04_ls_sd_sig.frequency, lr04_ls_sd_sig.amplitude)
ax.set_xlim([0.005, 0.07])
ax.set_ylim([0, 200])
ax.set_xlabel("Frequency [1/kyr]")
ax.set_ylabel("Spectra Amplitude")









# Conducts wavelet analysis on interpolated, standardized data
scal = lr04_slice.interp(step=0.5).standardize().wavelet()

# make plot
lr04_slice.summary_plot(
    psd=lr04_ls_sd_sig, scalogram=scal, time_lim=[t0, t1], psd_label="Amplitude"
)





















t0 = 0
t1 = 5000

lr04_slice_5Ma = ts_lr04.slice([t0, t1])

lr04_slice_5Ma_detrend = lr04_slice_5Ma.detrend(method='savitzky-golay', preserve_mean=True, keep_log=True)
fig, ax = plt.subplots()

lr04_slice_5Ma_detrend.plot(ax=ax, legend=False, invert_yaxis=True)
lr04_slice_5Ma.plot(ax=ax, legend=False, invert_yaxis=True)








# This line interpolates, standardizes, and conducts a spectral analysis of the detrended 5Ma data
lr04_ls_sd_5Ma_detrend = lr04_slice_5Ma_detrend.interp(step=0.5).standardize().spectral(method="lomb_scargle")

# This line conducts significance tests on the spectral analysis of the detrended 5Ma data
lr04_ls_sd_sig_5Ma_detrend = lr04_ls_sd_5Ma_detrend.signif_test()



# This code produces a plot of statistical significance by period

lr04_ls_sd_sig.plot(xlabel="Period [kyrs]")


# This generates a spectra amplitude plot for our detrended 5Ma data using the same process as above.

fig, ax = plt.subplots()
ax.plot(lr04_ls_sd_sig_5Ma_detrend.frequency, lr04_ls_sd_sig_5Ma_detrend.amplitude)
ax.set_xlim([0.005, 0.07])
ax.set_ylim([0, 350])
ax.set_xlabel("Frequency [1/kyr]")
ax.set_ylabel("Spectra Amplitude")

