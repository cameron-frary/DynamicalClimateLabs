





import matplotlib.pyplot as plt

x = [1, 2, 3, 4, 5]
y = [2, 4, 6, 8, 10]
z = [2, 4, 8, 16, 32]

fig, axes = plt.subplots(2, 1) # initialize figure and axes; this will create two vertically stacked plots

# plot the data
axes[0].plot(x, y)
axes[1].plot(x, z)

# set a y-label for each subplot (note: syntax slightly different)
axes[0].set_ylabel('y')
axes[1].set_ylabel('z')

plt.xlabel('x') # set an x-label for the whole plot

plt.tight_layout() # makes plots fit together more nicely









import pandas as pd


df_insolation = pd.read_excel('Insolation_200ka.xlsx')
df_manly = pd.read_excel('Lake_Manly_Age_Elevation.xlsx')
df_wendt = pd.read_excel('Wendt_2018_supp.xlsx')
df_18O = pd.read_csv('LR04.csv', skiprows = 4)


fig, axes = plt.subplots(4,1, sharex = True)

axes[0].plot(df_insolation['time'], df_insolation['insolation'], color = 'black')
axes[1].plot(df_18O['Time (ka)'], df_18O['Benthic d18O (per mil)  '], color = 'black')
axes[2].plot(df_manly['Age (yr)']/1000, df_manly['Elevation (masl)'], color = 'black')
axes[3].plot(df_wendt['age (yr)']/1000, df_wendt['elevation (mawt)'], color = 'black')
axes[0].set_xlim(0, 200)
plt.tight_layout()












def calc_evap_rate(Tmin, Tmax, z, Lat, u):
    Td =  (0.52 * Tmin) + (0.6 * Tmax) - (0.009*(Tmax^2)) - 2
    T = (Tmax+Tmin)/2
    lake_evap_rate = (0.015 +( 4e-4 * T) + (1e-6 * z))* (480*((T + 0.006*z)/(84-Lat)) - 40 + 2.3*u*(T - Td))
    return lake_evap_rate

print(((calc_evap_rate(10, 15, -20, 36.2, 2.6)*365)/10)/2.54)


















