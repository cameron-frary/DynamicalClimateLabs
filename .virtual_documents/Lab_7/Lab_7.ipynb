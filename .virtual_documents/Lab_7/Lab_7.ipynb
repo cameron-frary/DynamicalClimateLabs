








import matplotlib.pyplot as plt

x = [1, 2, 3, 4, 5]
y = [2, 4, 6, 8, 10]
z = [2, 4, 8, 16, 32]

fig, axes = plt.subplots(2, 1) # initialize figure and axes; this will create two vertically stacked plots

# plot the data
axes[0].plot(x, y)
axes[1].plot(x, z)

# set a y-label for each subplot (note: syntax slightly different)
axes[0].set_ylabel('y')
axes[1].set_ylabel('z')

plt.xlabel('x') # set an x-label for the whole plot

plt.tight_layout() # makes plots fit together more nicely









import numpy as np
import pandas as pd 

insolation_data = pd.read_excel("Insolation_200ka.xlsx")  # time in kyr, 0-200kyr (2000 rows)
benthic_data = pd.read_csv("LR04.csv", skiprows = 4)  # kyrs, much farther back
elevation_data = pd.read_excel("Lake_Manly_Age_Elevation.xlsx")  # Age in years
devils_data = pd.read_excel("Wendt_2018_supp.xlsx")  # age in yrs

#### These commented-out commands display the data for preliminary investigation
# display(insolation_data)
# display(benthic_data)
display(elevation_data)
display(devils_data)

# Create a grid of subplots 4 tall and 1 wide, with a shared x-axis
fig, axes = plt.subplots(4, 1, sharex=True)

# On first subplot, plot insolation data vs time from insolation_data in black, and set appropriate label
axes[0].plot(insolation_data["time"], insolation_data["insolation"], color='k')
axes[0].set_ylabel("Insolation\n(W/m$^2$)")

# On second subplot, plot benthic d18O vs time from bbenthic_data in black, and set appropriate label
# Also limit axis to last 200,000 years as data goes back much farther
axes[1].plot(benthic_data["Time (ka)"], benthic_data["Benthic d18O (per mil)  "], color='k')
axes[1].set_xlim(0,200)
axes[1].set_ylabel("$\delta ^{18}$O")

# On third subplot, plot elevation data from lake vs time, dividing age of samples by 1000 as they are in years rather than kyr
# As usual, plot in black and set appropriate label.
axes[2].plot(elevation_data["Age (yr)"]/1000, elevation_data["Elevation (masl)"], color='k')
axes[2].set_ylabel("Shoreline elevation\n(masl)")

# On last subplot, plot elevation vs time (again dividing by 1000 for same reasons as above) in black and with appropriate label
axes[3].plot(devils_data["age (yr)"]/1000, devils_data["elevation (mawt)"], color='k')
axes[3].set_ylabel("Water table elev.\n(mawt)")

# Switch x-axis around so time advances to the right in accordance with the findings of those who sit on the standing committee
plt.gca().invert_xaxis()

# Add appropriate x-axis label
plt.xlabel("Time (Kyr ago)")

plt.tight_layout() # makes plots fit together more nicely









## Two possible pairs for establishing east/west altitude discrepancy: 17(E) & 16(W), or 12(E) & 11(W)
sets = {"E": [17, 12], "W": [16, 11]}
# Set discrep_pair to either 0 or 1 depending on which of the above pairs you would like
discrep_pair = 1

## Difference 
diff = elevation_data["Elevation (masl)"][sets["E"][discrep_pair]] - elevation_data["Elevation (masl)"][sets["W"][discrep_pair]]
years = elevation_data["Age (yr)"][sets["E"][discrep_pair]]

annual_slip_rate = diff/years

# Make empty list for adjusted elevations
adj_elev = []

# iterate through rows in the elevation data
for i in range(len(elevation_data["Elevation (masl)"])):
    # If record is from east side, subtract the calculated difference from altitude and append to list
    if elevation_data["Loc"][i] == "E": 
        total_slippage = annual_slip_rate * elevation_data["Age (yr)"][i]
        adj_elev.append(elevation_data["Elevation (masl)"][i] - slippage)
    # If record not from east side, append elevation to list
    else:
        adj_elev.append(elevation_data["Elevation (masl)"][i])

# Add list to elevation_data dataframe (wasn't sure how best to execute--this method came from stackexchange)
elevation_data = elevation_data.assign(fault_corrected_elev = adj_elev)

# display elevation data to verify expected results
# display(elevation_data)


## All of this code is same as above with adjusted elevation in axes[2] instead.

# Create a grid of subplots 4 tall and 1 wide, with a shared x-axis
fig, axes = plt.subplots(4, 1, sharex=True)

# On first subplot, plot insolation data vs time from insolation_data in black, and set appropriate label
axes[0].plot(insolation_data["time"], insolation_data["insolation"], color='k')
axes[0].set_ylabel("Insolation\n(W/m$^2$)")

# On second subplot, plot benthic d18O vs time from bbenthic_data in black, and set appropriate label
# Also limit axis to last 200,000 years as data goes back much farther
axes[1].plot(benthic_data["Time (ka)"], benthic_data["Benthic d18O (per mil)  "], color='k')
axes[1].set_xlim(0,200)
axes[1].set_ylabel("$\delta ^{18}$O")

# On third subplot, plot elevation data from lake vs time, dividing age of samples by 1000 as they are in years rather than kyr
# As usual, plot in black and set appropriate label.
axes[2].plot(elevation_data["Age (yr)"]/1000, elevation_data["fault_corrected_elev"], color='k')
axes[2].set_ylabel("Fault corrected\nelevation\n(masl)")

# On last subplot, plot elevation vs time (again dividing by 1000 for same reasons as above) in black and with appropriate label
axes[3].plot(devils_data["age (yr)"]/1000, devils_data["elevation (mawt)"], color='k')
axes[3].set_ylabel("Water table elev.\n(mawt)")

# Switch x-axis around so time advances to the right in accordance with the findings of those who sit on the standing committee
plt.gca().invert_xaxis()

# Add appropriate x-axis label
plt.xlabel("Time (Kyr ago)")

plt.tight_layout() # makes plots fit together more nicely












def calc_evap(T_air, alt, lat, wind_sp, T_min, T_max):

    '''
    Calculates rate of evaporation in mm/day given air temp, altitude, latitude, wind speed, min temp, and max temp

    INPUTS:
        - T_air:     air temp             (C)
        - alt:       altitude             (m)
        - lat:       latitude             (degrees)
        - wind_sp:   wind speed           (m/s)
        - T_min:     minimum temperature  (C)
        - T_max:     maximum temperature  (C)
        
        Note: T_min and T_max are assumed to shift by the same magnitude as T_air

    OUTPUT: Evaporation rate (mm/day)
    '''

    # Calculates dew point using equation given in Jones (2007) from Linacre (1992)
    T_dew = 0.52*T_min + 0.60*T_max - 0.009*(T_max)**2 - 2

    # Calculates and returns evaporation rate using equation given in Jones (2007)
    return (0.015 + T_air*4*10e-4 + alt*10e-6) * (480*(T_air + 0.006*alt) / (84 - lat) - 40 + 2.3*wind_sp*(T_air - T_dew))
    





days_into_water_yr = 166

avg_evap_rate = calc_evap(12.5, -86, 36.247, 2.6, 10, 15)  # mm/day of evaporation

total_evap = avg_evap_rate * days_into_water_yr

print(f"Average evaporation rate (mm/day): {avg_evap_rate}")
print(f"Total evaporation over {days_into_water_yr} days (mm): {total_evap}")

mm_rain = 18 * 25.4  # mm of rain (18 inches)

net_precipitation = mm_rain - total_evap

print(f"Rain since Oct 1 (mm): {mm_rain}")
print(f"Net precipitation (mm, negative means net evaporation): {net_precipitation}")








years = (127700) - (95500)
print(f"Years: {years}")
net_change_elev = 1000*(-14 - 50)  # mm, total elevation change over period of interest
print(f"Net change in lake level: {net_change_elev} mm")

avg_annual_precip = 3 * 2.54  # mm/yr, average annual precipitation
print(f"Assuming constant precipitation of 3in/yr: {avg_annual_precip} mm")

annual_change_elev = net_change_elev / years  # mm/yr, annual change in elevation
print(f"Average annual change in lake elevation: {annual_change_elev} mm")
annual_evap = avg_annual_precip - annual_change_elev  # mm/yr, average annual evaporation
print(f"Average annual evaporation: {annual_evap} mm")

avg_daily_evap = annual_evap / 365.25  # mm/day, daily change in elevation
print(f"Average daily evaporation: {avg_daily_evap} mm")



