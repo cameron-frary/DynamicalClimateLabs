








import matplotlib.pyplot as plt

x = [1, 2, 3, 4, 5]
y = [2, 4, 6, 8, 10]
z = [2, 4, 8, 16, 32]

fig, axes = plt.subplots(2, 1) # initialize figure and axes; this will create two vertically stacked plots

# plot the data
axes[0].plot(x, y)
axes[1].plot(x, z)

# set a y-label for each subplot (note: syntax slightly different)
axes[0].set_ylabel('y')
axes[1].set_ylabel('z')

plt.xlabel('x') # set an x-label for the whole plot

plt.tight_layout() # makes plots fit together more nicely












import numpy as np
import pandas as pd 

insolation_data = pd.read_excel("Insolation_200ka.xlsx")  # time in kyr, 0-200kyr (2000 rows)
benthic_data = pd.read_csv("LR04.csv", skiprows = 4)  # kyrs, much farther back
elevation_data = pd.read_excel("Lake_Manly_Age_Elevation.xlsx")  # Age in years
devils_data = pd.read_excel("Wendt_2018_supp.xlsx")  # age in yrs

# display(insolation_data)
# display(benthic_data)
display(elevation_data)
# display(devils_data)

fig, axes = plt.subplots(4, 1, sharex=True)

axes[0].plot(insolation_data.time, insolation_data.insolation, color='k')
axes[0].set_ylabel("Insolation\n(W/m$^2$)")

axes[1].plot(benthic_data["Time (ka)"], benthic_data["Benthic d18O (per mil)  "], color='k')
axes[1].set_xlim(0,200)
axes[1].set_ylabel("$\delta ^{18}$O")

axes[2].plot(elevation_data["Age (yr)"]/1000, elevation_data["Elevation (masl)"], color='k')
axes[2].set_ylabel("Shoreline elevation\n(masl)")

axes[3].plot(devils_data["age (yr)"]/1000, devils_data["elevation (mawt)"], color='k')
axes[3].set_ylabel("Water table elev.\n(mawt)")

plt.gca().invert_xaxis()

plt.xlabel("Time (Kyr ago)")

plt.tight_layout() # makes plots fit together more nicely









## Two possible pairs: 16(W) & 17(E), or 11(W) & 12(E)
sets = {"W": [16, 11], "E": [17, 12]}
using_set = 1

diff = elevation_data["Elevation (masl)"][sets["E"][using_set]] - elevation_data["Elevation (masl)"][sets["W"][using_set]]

# print(elevation_data["Elevation (masl)"])

# adj_elev = []
# for i in range(len(elevation_data["Elevation (masl)"])):
#     if elevation_data["Loc"][i] == "E": 
#         adj_elev.append(elevation_data["Elevation (masl)"][i] - diff)































