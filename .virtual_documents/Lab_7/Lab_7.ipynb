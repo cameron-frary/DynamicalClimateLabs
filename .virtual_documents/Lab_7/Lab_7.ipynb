








import matplotlib.pyplot as plt

x = [1, 2, 3, 4, 5]
y = [2, 4, 6, 8, 10]
z = [2, 4, 8, 16, 32]

fig, axes = plt.subplots(2, 1) # initialize figure and axes; this will create two vertically stacked plots

# plot the data
axes[0].plot(x, y)
axes[1].plot(x, z)

# set a y-label for each subplot (note: syntax slightly different)
axes[0].set_ylabel('y')
axes[1].set_ylabel('z')

plt.xlabel('x') # set an x-label for the whole plot

plt.tight_layout() # makes plots fit together more nicely












import numpy as np
import pandas as pd 

insolation_data = pd.read_excel("Insolation_200ka.xlsx")  # time in kyr, 0-200kyr (2000 rows)
benthic_data = pd.read_csv("LR04.csv", skiprows = 4)  # kyrs, much farther back
elevation_data = pd.read_excel("Lake_Manly_Age_Elevation.xlsx")  # Age in years
devils_data = pd.read_excel("Wendt_2018_supp.xlsx")  # age in yrs

# display(insolation_data)
# display(benthic_data)
# display(elevation_data)
# display(devils_data)

fig, axes = plt.subplots(4, 1)

# print(insolation_data.time)

# axes[0].plot(insolation_data.time, insolation_data.insolation)
# axes[1].plot(benthic_data. , sharex=True)









































