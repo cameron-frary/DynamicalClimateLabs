


1370*1.05








def cigar_party(cigars, is_weekend):
    return (40 <= cigars <= 60) or (is_weekend and cigars >= 40)


print(cigar_party(30, False)) # should return False
print(cigar_party(50, False)) # should return True
print(cigar_party(70, True)) # should return True











def calc_S(age):
    
    ''' Calculates the solar flux (S) at Earth at any point in Earth's history.
            
            INPUT: age, in years. Input of 1e6 will find S for 1 million years ago. Must be < 4.57e9.
            OUTPUT: Solar flux reaching Earth in W/m^2. '''
            
    return ((1/(1+(2/5)*(1-((4.57e9-age)/4.57e9))))) * 1370

print(calc_S(0)) # should be 1370 W/m2





import numpy as np

A_i= 0.7  # Full ice coverage
A_0= 0.289  # Lowest realistic albedo (No ice)

T_i= 260  # Transition to Snowball Earth
T_0= 293  # Transition to ice-free Earth

sig = 5.67e-8  # W/m^2/K^4 Stefan-Boltzmann constant 

def calc_A(T):
    
    '''
    Calculates albedo at a given temperature using the piecewise expression given in lab. Note that the endpoint
    temperatures and albedos are defined outside the function.
    
        INPUT: temperature T in Kelvin
        OUTPUT: Albedo in interval [0,1]
    '''
    
    if T<=T_i:
        return A_i
    elif T>=T_0:
        return A_0
    else:
        return A_0 + (A_i - A_0) * ((T-T_0)**2/(T_i-T_0)**2)

print(calc_A(255))  # Should be 0.7
print(calc_A(273))  # Should be [equal to some as-yet-unknown intermediate value]
print(calc_A(300))  # Should be 0.289


def calc_T_equil(S, R, A, Gh_eff):
    
    '''
    Calculates equilibrium temperature given solar flux, radiative forcing, albedo, and greenhouse effect.
    
        INPUT: Solar flux (W/m^2), Radiative forcing (W/m^2), albedo (in interval [0,1]), and greenhouse effect (deg C, >= 0)
        OUTPUT: Equilibrium temperature in Celsius taking into account unreflected solar shortwave radiation
            and longwave radiation from radiative forcing.
    
    '''
    
    shortwave_comp = (S/4)*(1-A)  # W/m^2; shortwave flux not reflected
    longwave_comp = R  # W/m^2; radiative forcing, flux from longwave trapped by increased eps
    return np.power((shortwave_comp + longwave_comp)/sig, (1/4)) + Gh_eff - 273  # C; Stefan-Boltzmann
    
    
print(calc_T_equil(1370, 2.58, 0.3, 32))  # Should be [equal to some as-yet-unknown known value]

print(calc_T_equil.__doc__)








import matplotlib.pyplot as plt
import numpy as np
import pandas as pd 
import seaborn as sns

sns.set_palette('colorblind') # set the palette used for plots to colorblind-friendly






df_song = pd.read_excel("Song_2019_SST_C.xlsx") # get data from Song et al. (2019)
df_scot = pd.read_excel("Scotese_2021_T.xlsx") # get data from Scotese (2021)
df_gross = pd.read_excel("grossman_2022_locfit_T_5Ma.xlsx") # get data from Grossman et al. (2022)










display(df_song)





display(df_song.Age)





display(df_song.Age.iloc[5]) # indexing (with slightly different syntax than before)
display(df_song.CO2.iloc[5])








def calc_R(co2, co2_0):
    
    '''
    Return radiative forcing in W/m^2 given atmospheric CO_2 at some time, 
    and CO_2_0 (preindustrial atmospheric CO_2 concentration)
    
        INPUT: 
            co2: atmospheric CO_2 concentration at time of interest
            co2_0: preindustrial atmospheric CO_2 concentration (commonly taken to be 280ppm)
            
        OUTPUT:
            Radiative forcing in W/m^2
    '''
    
    a = 5.35  # seems to be in W/m^2, as the ln(C/C0) will be unitless. Value from IPCC table
    return a * np.log(co2/co2_0)
    
print(calc_R(400, 280))
print(calc_R(800, 280))





preindustrial_CO2 = 280  # ppm; preindustrial CO2
tropics_excess = 10  # C or K; tropics temp in excess of global temp

'''
Possible mismatch causes:
- using temps from tropics which are significantly hotter than rest of planet
-- would affect mismatch uniformly across time interval

- not accounting for radiative forcing of water
-- increasing radiative forcing would result in warmer model temps

- not accounting for supra-logarithmic behavior of CO2 forcing effect
-- especially important for 500-350 Ma and 250-200 Ma, periods where model does especially poorly

- 
'''

equil_temps = []
gh_eff = 33

print(gh_eff, sig)

for i in range(df_song.Age.size):  # Loop through all rows of df_song dataset
    age = df_song.Age.iloc[i]  # Age in millions of years from record i
    temp = df_song.Temperature.iloc[i]  # C; temp from record i
    co2 = df_song.CO2.iloc[i]  # ppm; CO2 from record i
    
    S = calc_S(age*1e6)  # W/m^2; solar flux at current age (*10^6 to get from Ma to years)
    A = calc_A(temp + 273)  # Albedo using temp (adding 273 as input is Kelvin but temp is in C)
    R = calc_R(co2, preindustrial_CO2)  # W/m^2; radiative forcing given CO2 concentration
    
    equil_temp = calc_T_equil(S, R, A, 33)  # C; Equilibrium temperature given calculated S, R, A, and GH_eff = 33
    
    equil_temps.append(equil_temp)  # Add equil temp to lsit of equil temps
    # print(age, round(S,3), round(A,3), round(R,3), round(equil_temp,3))
    
plt.title("Temperature vs Age")
plt.xlabel("Millions of years ago")
plt.ylabel("Temperature (\N{DEGREE SIGN}C)")

plt.plot(df_song.Age, equil_temps, label="Model")
plt.plot(df_gross.Age, df_gross.Temperature-tropics_excess, label="Grossman (adj to global temp)")  # Subtracting tropics excess from gorssman temp to get world avg temp
plt.legend()

plt.gca().invert_xaxis()








plt.title("Temperature vs Age")
plt.xlabel("Millions of years ago")
plt.ylabel("Temperature (\N{degree sign}C)")

'''
CHECK STYLE (CHANGE FROM COLOR TO LINESTYLE?)
'''

plt.plot(df_song.Age, equil_temps, label="Model")
# plt.plot(df_song.Age, df_song.Temperature-tropics_excess, label="Song")
# plt.plot(df_gross.Age, df_gross.Temperature-tropics_excess, label="Grossman")
plt.plot(df_scot.Age, df_scot.GAT, label="Scotese")
plt.axhline(y=15)

plt.legend()
plt.gca().invert_xaxis()








plt.title("Temperature vs CO$_2$ (Model)")
plt.xlabel("CO$_2$ Concentration (ppm)")
plt.ylabel("Temperature (\N{degree sign}C)")

plt.scatter(df_song.CO2, equil_temps, label="Model")
# plt.legend()

plt.show()

plt.title("Temperature vs CO$_2$ (Song)")
plt.xlabel("CO$_2$ Concentration (ppm)")
plt.ylabel("Temperature (\N{degree sign}C)")

plt.scatter(df_song.CO2, df_song.Temperature, label="Song")
# plt.legend()






